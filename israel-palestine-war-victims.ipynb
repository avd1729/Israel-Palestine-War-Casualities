{
 "cells": [
  {
   "cell_type": "markdown",
   "id": "2a449eac",
   "metadata": {
    "papermill": {
     "duration": 0.018264,
     "end_time": "2023-11-27T13:40:43.526708",
     "exception": false,
     "start_time": "2023-11-27T13:40:43.508444",
     "status": "completed"
    },
    "tags": []
   },
   "source": [
    "# **Setting up the environment**"
   ]
  },
  {
   "cell_type": "code",
   "execution_count": 1,
   "id": "382434b1",
   "metadata": {
    "execution": {
     "iopub.execute_input": "2023-11-27T13:40:43.563911Z",
     "iopub.status.busy": "2023-11-27T13:40:43.563495Z",
     "iopub.status.idle": "2023-11-27T13:40:43.576305Z",
     "shell.execute_reply": "2023-11-27T13:40:43.575234Z"
    },
    "papermill": {
     "duration": 0.034723,
     "end_time": "2023-11-27T13:40:43.579299",
     "exception": false,
     "start_time": "2023-11-27T13:40:43.544576",
     "status": "completed"
    },
    "tags": []
   },
   "outputs": [],
   "source": [
    "import warnings\n",
    "warnings.filterwarnings('ignore')"
   ]
  },
  {
   "cell_type": "code",
   "execution_count": 2,
   "id": "52ec8eb2",
   "metadata": {
    "execution": {
     "iopub.execute_input": "2023-11-27T13:40:43.618261Z",
     "iopub.status.busy": "2023-11-27T13:40:43.616797Z",
     "iopub.status.idle": "2023-11-27T13:40:44.160223Z",
     "shell.execute_reply": "2023-11-27T13:40:44.158473Z"
    },
    "papermill": {
     "duration": 0.567913,
     "end_time": "2023-11-27T13:40:44.164594",
     "exception": false,
     "start_time": "2023-11-27T13:40:43.596681",
     "status": "completed"
    },
    "tags": []
   },
   "outputs": [],
   "source": [
    "import numpy as np\n",
    "import pandas as pd"
   ]
  },
  {
   "cell_type": "code",
   "execution_count": 3,
   "id": "bffb9c58",
   "metadata": {
    "execution": {
     "iopub.execute_input": "2023-11-27T13:40:44.203474Z",
     "iopub.status.busy": "2023-11-27T13:40:44.202782Z",
     "iopub.status.idle": "2023-11-27T13:40:44.353903Z",
     "shell.execute_reply": "2023-11-27T13:40:44.352593Z"
    },
    "papermill": {
     "duration": 0.17477,
     "end_time": "2023-11-27T13:40:44.357411",
     "exception": false,
     "start_time": "2023-11-27T13:40:44.182641",
     "status": "completed"
    },
    "tags": []
   },
   "outputs": [],
   "source": [
    "data = pd.read_csv(\"/kaggle/input/fatalities-in-the-israeli-palestinian/fatalities_isr_pse_conflict_2000_to_2023.csv\")"
   ]
  },
  {
   "cell_type": "markdown",
   "id": "6eb293ba",
   "metadata": {
    "papermill": {
     "duration": 0.018388,
     "end_time": "2023-11-27T13:40:44.393335",
     "exception": false,
     "start_time": "2023-11-27T13:40:44.374947",
     "status": "completed"
    },
    "tags": []
   },
   "source": [
    "# **Exploratory-Data-Analysis**"
   ]
  },
  {
   "cell_type": "code",
   "execution_count": 4,
   "id": "09c39720",
   "metadata": {
    "execution": {
     "iopub.execute_input": "2023-11-27T13:40:44.430680Z",
     "iopub.status.busy": "2023-11-27T13:40:44.429757Z",
     "iopub.status.idle": "2023-11-27T13:40:44.492161Z",
     "shell.execute_reply": "2023-11-27T13:40:44.490794Z"
    },
    "papermill": {
     "duration": 0.084409,
     "end_time": "2023-11-27T13:40:44.495145",
     "exception": false,
     "start_time": "2023-11-27T13:40:44.410736",
     "status": "completed"
    },
    "tags": []
   },
   "outputs": [
    {
     "name": "stdout",
     "output_type": "stream",
     "text": [
      "<class 'pandas.core.frame.DataFrame'>\n",
      "RangeIndex: 11124 entries, 0 to 11123\n",
      "Data columns (total 16 columns):\n",
      " #   Column                        Non-Null Count  Dtype  \n",
      "---  ------                        --------------  -----  \n",
      " 0   name                          11124 non-null  object \n",
      " 1   date_of_event                 11124 non-null  object \n",
      " 2   age                           10995 non-null  float64\n",
      " 3   citizenship                   11124 non-null  object \n",
      " 4   event_location                11124 non-null  object \n",
      " 5   event_location_district       11124 non-null  object \n",
      " 6   event_location_region         11124 non-null  object \n",
      " 7   date_of_death                 11124 non-null  object \n",
      " 8   gender                        11104 non-null  object \n",
      " 9   took_part_in_the_hostilities  9694 non-null   object \n",
      " 10  place_of_residence            11056 non-null  object \n",
      " 11  place_of_residence_district   11056 non-null  object \n",
      " 12  type_of_injury                10833 non-null  object \n",
      " 13  ammunition                    5871 non-null   object \n",
      " 14  killed_by                     11124 non-null  object \n",
      " 15  notes                         10844 non-null  object \n",
      "dtypes: float64(1), object(15)\n",
      "memory usage: 1.4+ MB\n"
     ]
    }
   ],
   "source": [
    "data.info()"
   ]
  },
  {
   "cell_type": "code",
   "execution_count": 5,
   "id": "ae6a7e17",
   "metadata": {
    "execution": {
     "iopub.execute_input": "2023-11-27T13:40:44.531496Z",
     "iopub.status.busy": "2023-11-27T13:40:44.530276Z",
     "iopub.status.idle": "2023-11-27T13:40:44.559778Z",
     "shell.execute_reply": "2023-11-27T13:40:44.558516Z"
    },
    "papermill": {
     "duration": 0.050463,
     "end_time": "2023-11-27T13:40:44.562516",
     "exception": false,
     "start_time": "2023-11-27T13:40:44.512053",
     "status": "completed"
    },
    "tags": []
   },
   "outputs": [
    {
     "data": {
      "text/html": [
       "<div>\n",
       "<style scoped>\n",
       "    .dataframe tbody tr th:only-of-type {\n",
       "        vertical-align: middle;\n",
       "    }\n",
       "\n",
       "    .dataframe tbody tr th {\n",
       "        vertical-align: top;\n",
       "    }\n",
       "\n",
       "    .dataframe thead th {\n",
       "        text-align: right;\n",
       "    }\n",
       "</style>\n",
       "<table border=\"1\" class=\"dataframe\">\n",
       "  <thead>\n",
       "    <tr style=\"text-align: right;\">\n",
       "      <th></th>\n",
       "      <th>name</th>\n",
       "      <th>date_of_event</th>\n",
       "      <th>age</th>\n",
       "      <th>citizenship</th>\n",
       "      <th>event_location</th>\n",
       "      <th>event_location_district</th>\n",
       "      <th>event_location_region</th>\n",
       "      <th>date_of_death</th>\n",
       "      <th>gender</th>\n",
       "      <th>took_part_in_the_hostilities</th>\n",
       "      <th>place_of_residence</th>\n",
       "      <th>place_of_residence_district</th>\n",
       "      <th>type_of_injury</th>\n",
       "      <th>ammunition</th>\n",
       "      <th>killed_by</th>\n",
       "      <th>notes</th>\n",
       "    </tr>\n",
       "  </thead>\n",
       "  <tbody>\n",
       "    <tr>\n",
       "      <th>0</th>\n",
       "      <td>'Abd a-Rahman Suleiman Muhammad Abu Daghash</td>\n",
       "      <td>2023-09-24</td>\n",
       "      <td>32.0</td>\n",
       "      <td>Palestinian</td>\n",
       "      <td>Nur Shams R.C.</td>\n",
       "      <td>Tulkarm</td>\n",
       "      <td>West Bank</td>\n",
       "      <td>2023-09-24</td>\n",
       "      <td>M</td>\n",
       "      <td>NaN</td>\n",
       "      <td>Nur Shams R.C.</td>\n",
       "      <td>Tulkarm</td>\n",
       "      <td>gunfire</td>\n",
       "      <td>live ammunition</td>\n",
       "      <td>Israeli security forces</td>\n",
       "      <td>Fatally shot by Israeli forces while standing ...</td>\n",
       "    </tr>\n",
       "    <tr>\n",
       "      <th>1</th>\n",
       "      <td>Usayed Farhan Muhammad 'Ali Abu 'Ali</td>\n",
       "      <td>2023-09-24</td>\n",
       "      <td>21.0</td>\n",
       "      <td>Palestinian</td>\n",
       "      <td>Nur Shams R.C.</td>\n",
       "      <td>Tulkarm</td>\n",
       "      <td>West Bank</td>\n",
       "      <td>2023-09-24</td>\n",
       "      <td>M</td>\n",
       "      <td>NaN</td>\n",
       "      <td>Nur Shams R.C.</td>\n",
       "      <td>Tulkarm</td>\n",
       "      <td>gunfire</td>\n",
       "      <td>live ammunition</td>\n",
       "      <td>Israeli security forces</td>\n",
       "      <td>Fatally shot by Israeli forces while trying to...</td>\n",
       "    </tr>\n",
       "    <tr>\n",
       "      <th>2</th>\n",
       "      <td>'Abdallah 'Imad Sa'ed Abu Hassan</td>\n",
       "      <td>2023-09-22</td>\n",
       "      <td>16.0</td>\n",
       "      <td>Palestinian</td>\n",
       "      <td>Kfar Dan</td>\n",
       "      <td>Jenin</td>\n",
       "      <td>West Bank</td>\n",
       "      <td>2023-09-22</td>\n",
       "      <td>M</td>\n",
       "      <td>NaN</td>\n",
       "      <td>al-Yamun</td>\n",
       "      <td>Jenin</td>\n",
       "      <td>gunfire</td>\n",
       "      <td>live ammunition</td>\n",
       "      <td>Israeli security forces</td>\n",
       "      <td>Fatally shot by soldiers while firing at them ...</td>\n",
       "    </tr>\n",
       "    <tr>\n",
       "      <th>3</th>\n",
       "      <td>Durgham Muhammad Yihya al-Akhras</td>\n",
       "      <td>2023-09-20</td>\n",
       "      <td>19.0</td>\n",
       "      <td>Palestinian</td>\n",
       "      <td>'Aqbat Jaber R.C.</td>\n",
       "      <td>Jericho</td>\n",
       "      <td>West Bank</td>\n",
       "      <td>2023-09-20</td>\n",
       "      <td>M</td>\n",
       "      <td>NaN</td>\n",
       "      <td>'Aqbat Jaber R.C.</td>\n",
       "      <td>Jericho</td>\n",
       "      <td>gunfire</td>\n",
       "      <td>live ammunition</td>\n",
       "      <td>Israeli security forces</td>\n",
       "      <td>Shot in the head by Israeli forces while throw...</td>\n",
       "    </tr>\n",
       "    <tr>\n",
       "      <th>4</th>\n",
       "      <td>Raafat 'Omar Ahmad Khamaisah</td>\n",
       "      <td>2023-09-19</td>\n",
       "      <td>15.0</td>\n",
       "      <td>Palestinian</td>\n",
       "      <td>Jenin R.C.</td>\n",
       "      <td>Jenin</td>\n",
       "      <td>West Bank</td>\n",
       "      <td>2023-09-19</td>\n",
       "      <td>M</td>\n",
       "      <td>NaN</td>\n",
       "      <td>Jenin</td>\n",
       "      <td>Jenin</td>\n",
       "      <td>gunfire</td>\n",
       "      <td>live ammunition</td>\n",
       "      <td>Israeli security forces</td>\n",
       "      <td>Wounded by soldiers’ gunfire after running awa...</td>\n",
       "    </tr>\n",
       "  </tbody>\n",
       "</table>\n",
       "</div>"
      ],
      "text/plain": [
       "                                          name date_of_event   age  \\\n",
       "0  'Abd a-Rahman Suleiman Muhammad Abu Daghash    2023-09-24  32.0   \n",
       "1         Usayed Farhan Muhammad 'Ali Abu 'Ali    2023-09-24  21.0   \n",
       "2             'Abdallah 'Imad Sa'ed Abu Hassan    2023-09-22  16.0   \n",
       "3             Durgham Muhammad Yihya al-Akhras    2023-09-20  19.0   \n",
       "4                 Raafat 'Omar Ahmad Khamaisah    2023-09-19  15.0   \n",
       "\n",
       "   citizenship     event_location event_location_district  \\\n",
       "0  Palestinian     Nur Shams R.C.                 Tulkarm   \n",
       "1  Palestinian     Nur Shams R.C.                 Tulkarm   \n",
       "2  Palestinian           Kfar Dan                   Jenin   \n",
       "3  Palestinian  'Aqbat Jaber R.C.                 Jericho   \n",
       "4  Palestinian         Jenin R.C.                   Jenin   \n",
       "\n",
       "  event_location_region date_of_death gender took_part_in_the_hostilities  \\\n",
       "0             West Bank    2023-09-24      M                          NaN   \n",
       "1             West Bank    2023-09-24      M                          NaN   \n",
       "2             West Bank    2023-09-22      M                          NaN   \n",
       "3             West Bank    2023-09-20      M                          NaN   \n",
       "4             West Bank    2023-09-19      M                          NaN   \n",
       "\n",
       "  place_of_residence place_of_residence_district type_of_injury  \\\n",
       "0     Nur Shams R.C.                     Tulkarm        gunfire   \n",
       "1     Nur Shams R.C.                     Tulkarm        gunfire   \n",
       "2           al-Yamun                       Jenin        gunfire   \n",
       "3  'Aqbat Jaber R.C.                     Jericho        gunfire   \n",
       "4              Jenin                       Jenin        gunfire   \n",
       "\n",
       "        ammunition                killed_by  \\\n",
       "0  live ammunition  Israeli security forces   \n",
       "1  live ammunition  Israeli security forces   \n",
       "2  live ammunition  Israeli security forces   \n",
       "3  live ammunition  Israeli security forces   \n",
       "4  live ammunition  Israeli security forces   \n",
       "\n",
       "                                               notes  \n",
       "0  Fatally shot by Israeli forces while standing ...  \n",
       "1  Fatally shot by Israeli forces while trying to...  \n",
       "2  Fatally shot by soldiers while firing at them ...  \n",
       "3  Shot in the head by Israeli forces while throw...  \n",
       "4  Wounded by soldiers’ gunfire after running awa...  "
      ]
     },
     "execution_count": 5,
     "metadata": {},
     "output_type": "execute_result"
    }
   ],
   "source": [
    "data.head()"
   ]
  },
  {
   "cell_type": "code",
   "execution_count": 6,
   "id": "08db6c3a",
   "metadata": {
    "execution": {
     "iopub.execute_input": "2023-11-27T13:40:44.600377Z",
     "iopub.status.busy": "2023-11-27T13:40:44.599880Z",
     "iopub.status.idle": "2023-11-27T13:40:44.615346Z",
     "shell.execute_reply": "2023-11-27T13:40:44.613732Z"
    },
    "papermill": {
     "duration": 0.038615,
     "end_time": "2023-11-27T13:40:44.618354",
     "exception": false,
     "start_time": "2023-11-27T13:40:44.579739",
     "status": "completed"
    },
    "tags": []
   },
   "outputs": [
    {
     "data": {
      "text/plain": [
       "count    10995.000000\n",
       "mean        26.745703\n",
       "std         13.780548\n",
       "min          1.000000\n",
       "25%         19.000000\n",
       "50%         23.000000\n",
       "75%         31.000000\n",
       "max        112.000000\n",
       "Name: age, dtype: float64"
      ]
     },
     "execution_count": 6,
     "metadata": {},
     "output_type": "execute_result"
    }
   ],
   "source": [
    "data['age'].describe()"
   ]
  },
  {
   "cell_type": "markdown",
   "id": "4aa0bd4c",
   "metadata": {
    "papermill": {
     "duration": 0.017239,
     "end_time": "2023-11-27T13:40:44.653031",
     "exception": false,
     "start_time": "2023-11-27T13:40:44.635792",
     "status": "completed"
    },
    "tags": []
   },
   "source": [
    "**We find that more than 75% people killed are under the age of 31 :(**"
   ]
  },
  {
   "cell_type": "code",
   "execution_count": 7,
   "id": "3af7cd41",
   "metadata": {
    "execution": {
     "iopub.execute_input": "2023-11-27T13:40:44.690776Z",
     "iopub.status.busy": "2023-11-27T13:40:44.690368Z",
     "iopub.status.idle": "2023-11-27T13:40:44.699482Z",
     "shell.execute_reply": "2023-11-27T13:40:44.697935Z"
    },
    "papermill": {
     "duration": 0.031253,
     "end_time": "2023-11-27T13:40:44.702225",
     "exception": false,
     "start_time": "2023-11-27T13:40:44.670972",
     "status": "completed"
    },
    "tags": []
   },
   "outputs": [
    {
     "data": {
      "text/plain": [
       "Index(['name', 'date_of_event', 'age', 'citizenship', 'event_location',\n",
       "       'event_location_district', 'event_location_region', 'date_of_death',\n",
       "       'gender', 'took_part_in_the_hostilities', 'place_of_residence',\n",
       "       'place_of_residence_district', 'type_of_injury', 'ammunition',\n",
       "       'killed_by', 'notes'],\n",
       "      dtype='object')"
      ]
     },
     "execution_count": 7,
     "metadata": {},
     "output_type": "execute_result"
    }
   ],
   "source": [
    "data.columns"
   ]
  },
  {
   "cell_type": "code",
   "execution_count": 8,
   "id": "cac001b7",
   "metadata": {
    "execution": {
     "iopub.execute_input": "2023-11-27T13:40:44.739865Z",
     "iopub.status.busy": "2023-11-27T13:40:44.739429Z",
     "iopub.status.idle": "2023-11-27T13:40:44.751939Z",
     "shell.execute_reply": "2023-11-27T13:40:44.750914Z"
    },
    "papermill": {
     "duration": 0.034526,
     "end_time": "2023-11-27T13:40:44.754377",
     "exception": false,
     "start_time": "2023-11-27T13:40:44.719851",
     "status": "completed"
    },
    "tags": []
   },
   "outputs": [
    {
     "data": {
      "text/plain": [
       "event_location\n",
       "Gaza City              2232\n",
       "Rafah                   832\n",
       "Khan Yunis              538\n",
       "Jabalya R.C.            477\n",
       "Beit Lahiya             471\n",
       "                       ... \n",
       "al-'Esawiyah              1\n",
       "Elazar                    1\n",
       "Kibbutz Beit Govrin       1\n",
       "Kh. Shuweika              1\n",
       "Masha                     1\n",
       "Name: count, Length: 494, dtype: int64"
      ]
     },
     "execution_count": 8,
     "metadata": {},
     "output_type": "execute_result"
    }
   ],
   "source": [
    "data['event_location'].value_counts()"
   ]
  },
  {
   "cell_type": "code",
   "execution_count": 9,
   "id": "b6421dc0",
   "metadata": {
    "execution": {
     "iopub.execute_input": "2023-11-27T13:40:44.868337Z",
     "iopub.status.busy": "2023-11-27T13:40:44.867751Z",
     "iopub.status.idle": "2023-11-27T13:40:44.880569Z",
     "shell.execute_reply": "2023-11-27T13:40:44.879285Z"
    },
    "papermill": {
     "duration": 0.110522,
     "end_time": "2023-11-27T13:40:44.883294",
     "exception": false,
     "start_time": "2023-11-27T13:40:44.772772",
     "status": "completed"
    },
    "tags": []
   },
   "outputs": [
    {
     "data": {
      "text/plain": [
       "citizenship\n",
       "Palestinian    10092\n",
       "Israeli         1029\n",
       "Jordanian          2\n",
       "American           1\n",
       "Name: count, dtype: int64"
      ]
     },
     "execution_count": 9,
     "metadata": {},
     "output_type": "execute_result"
    }
   ],
   "source": [
    "data['citizenship'].value_counts()"
   ]
  },
  {
   "cell_type": "markdown",
   "id": "a49cb6de",
   "metadata": {
    "papermill": {
     "duration": 0.018602,
     "end_time": "2023-11-27T13:40:44.920330",
     "exception": false,
     "start_time": "2023-11-27T13:40:44.901728",
     "status": "completed"
    },
    "tags": []
   },
   "source": [
    "**The kills is mostly skewed towards palestineans and noticable in the israelis , from this we can infer the state of the war**"
   ]
  },
  {
   "cell_type": "code",
   "execution_count": 10,
   "id": "dac7f178",
   "metadata": {
    "execution": {
     "iopub.execute_input": "2023-11-27T13:40:44.961037Z",
     "iopub.status.busy": "2023-11-27T13:40:44.960520Z",
     "iopub.status.idle": "2023-11-27T13:40:44.973065Z",
     "shell.execute_reply": "2023-11-27T13:40:44.971474Z"
    },
    "papermill": {
     "duration": 0.037163,
     "end_time": "2023-11-27T13:40:44.976323",
     "exception": false,
     "start_time": "2023-11-27T13:40:44.939160",
     "status": "completed"
    },
    "tags": []
   },
   "outputs": [
    {
     "data": {
      "text/plain": [
       "type_of_injury\n",
       "gunfire                         9849\n",
       "explosion                        555\n",
       "shelling                         311\n",
       "stabbing                          48\n",
       "house demolition                  25\n",
       "hit by a vehicle                  18\n",
       "beating                            9\n",
       "stones throwing                    6\n",
       "being bludgeoned with an axe       4\n",
       "fire                               4\n",
       "physically assaulted               2\n",
       "physical assault                   1\n",
       "Strangulation                      1\n",
       "Name: count, dtype: int64"
      ]
     },
     "execution_count": 10,
     "metadata": {},
     "output_type": "execute_result"
    }
   ],
   "source": [
    "data['type_of_injury'].value_counts()"
   ]
  },
  {
   "cell_type": "code",
   "execution_count": 11,
   "id": "f7b40dc4",
   "metadata": {
    "execution": {
     "iopub.execute_input": "2023-11-27T13:40:45.017165Z",
     "iopub.status.busy": "2023-11-27T13:40:45.016706Z",
     "iopub.status.idle": "2023-11-27T13:40:45.030169Z",
     "shell.execute_reply": "2023-11-27T13:40:45.028590Z"
    },
    "papermill": {
     "duration": 0.037649,
     "end_time": "2023-11-27T13:40:45.033138",
     "exception": false,
     "start_time": "2023-11-27T13:40:44.995489",
     "status": "completed"
    },
    "tags": []
   },
   "outputs": [
    {
     "data": {
      "text/plain": [
       "event_location_district\n",
       "Gaza                    2435\n",
       "North Gaza              1910\n",
       "Khan Yunis              1394\n",
       "Rafah                   1066\n",
       "Deir al-Balah            854\n",
       "Israel                   679\n",
       "Nablus                   647\n",
       "Jenin                    512\n",
       "Ramallah and al-Bira     350\n",
       "Hebron                   347\n",
       "Tulkarm                  254\n",
       "Bethlehem                186\n",
       "East Jerusalem           130\n",
       "al-Quds                   85\n",
       "Gush Katif                70\n",
       "Qalqiliya                 65\n",
       "Tubas                     52\n",
       "Jericho                   48\n",
       "Salfit                    36\n",
       "Gaza Strip                 4\n",
       "Name: count, dtype: int64"
      ]
     },
     "execution_count": 11,
     "metadata": {},
     "output_type": "execute_result"
    }
   ],
   "source": [
    "data['event_location_district'].value_counts()"
   ]
  },
  {
   "cell_type": "code",
   "execution_count": 12,
   "id": "52aecc1e",
   "metadata": {
    "execution": {
     "iopub.execute_input": "2023-11-27T13:40:45.074058Z",
     "iopub.status.busy": "2023-11-27T13:40:45.073656Z",
     "iopub.status.idle": "2023-11-27T13:40:45.086029Z",
     "shell.execute_reply": "2023-11-27T13:40:45.084334Z"
    },
    "papermill": {
     "duration": 0.0362,
     "end_time": "2023-11-27T13:40:45.088952",
     "exception": false,
     "start_time": "2023-11-27T13:40:45.052752",
     "status": "completed"
    },
    "tags": []
   },
   "outputs": [
    {
     "data": {
      "text/plain": [
       "event_location_region\n",
       "Gaza Strip    7733\n",
       "West Bank     2712\n",
       "Israel         679\n",
       "Name: count, dtype: int64"
      ]
     },
     "execution_count": 12,
     "metadata": {},
     "output_type": "execute_result"
    }
   ],
   "source": [
    "data['event_location_region'].value_counts()"
   ]
  },
  {
   "cell_type": "markdown",
   "id": "9ad0d706",
   "metadata": {
    "papermill": {
     "duration": 0.018166,
     "end_time": "2023-11-27T13:40:45.125930",
     "exception": false,
     "start_time": "2023-11-27T13:40:45.107764",
     "status": "completed"
    },
    "tags": []
   },
   "source": [
    "**Gaza Strip is the most affected place**"
   ]
  },
  {
   "cell_type": "code",
   "execution_count": 13,
   "id": "6b9b114f",
   "metadata": {
    "execution": {
     "iopub.execute_input": "2023-11-27T13:40:45.165042Z",
     "iopub.status.busy": "2023-11-27T13:40:45.164647Z",
     "iopub.status.idle": "2023-11-27T13:40:45.176041Z",
     "shell.execute_reply": "2023-11-27T13:40:45.174602Z"
    },
    "papermill": {
     "duration": 0.03454,
     "end_time": "2023-11-27T13:40:45.179044",
     "exception": false,
     "start_time": "2023-11-27T13:40:45.144504",
     "status": "completed"
    },
    "tags": []
   },
   "outputs": [
    {
     "data": {
      "text/plain": [
       "took_part_in_the_hostilities\n",
       "No                            4653\n",
       "Yes                           3467\n",
       "Israelis                       771\n",
       "Unknown                        603\n",
       "Object of targeted killing     200\n",
       "Name: count, dtype: int64"
      ]
     },
     "execution_count": 13,
     "metadata": {},
     "output_type": "execute_result"
    }
   ],
   "source": [
    "data['took_part_in_the_hostilities'].value_counts()"
   ]
  },
  {
   "cell_type": "markdown",
   "id": "c126d068",
   "metadata": {
    "papermill": {
     "duration": 0.018867,
     "end_time": "2023-11-27T13:40:45.217393",
     "exception": false,
     "start_time": "2023-11-27T13:40:45.198526",
     "status": "completed"
    },
    "tags": []
   },
   "source": [
    "**We find that almost 4653 people are killed despite not showing any hostility**"
   ]
  },
  {
   "cell_type": "code",
   "execution_count": 14,
   "id": "50b5ac47",
   "metadata": {
    "execution": {
     "iopub.execute_input": "2023-11-27T13:40:45.257260Z",
     "iopub.status.busy": "2023-11-27T13:40:45.256766Z",
     "iopub.status.idle": "2023-11-27T13:40:45.267995Z",
     "shell.execute_reply": "2023-11-27T13:40:45.266576Z"
    },
    "papermill": {
     "duration": 0.033975,
     "end_time": "2023-11-27T13:40:45.270377",
     "exception": false,
     "start_time": "2023-11-27T13:40:45.236402",
     "status": "completed"
    },
    "tags": []
   },
   "outputs": [
    {
     "data": {
      "text/plain": [
       "type_of_injury\n",
       "gunfire                         9849\n",
       "explosion                        555\n",
       "shelling                         311\n",
       "stabbing                          48\n",
       "house demolition                  25\n",
       "hit by a vehicle                  18\n",
       "beating                            9\n",
       "stones throwing                    6\n",
       "being bludgeoned with an axe       4\n",
       "fire                               4\n",
       "physically assaulted               2\n",
       "physical assault                   1\n",
       "Strangulation                      1\n",
       "Name: count, dtype: int64"
      ]
     },
     "execution_count": 14,
     "metadata": {},
     "output_type": "execute_result"
    }
   ],
   "source": [
    "data['type_of_injury'].value_counts()"
   ]
  },
  {
   "cell_type": "markdown",
   "id": "5ed52343",
   "metadata": {
    "papermill": {
     "duration": 0.019082,
     "end_time": "2023-11-27T13:40:45.308216",
     "exception": false,
     "start_time": "2023-11-27T13:40:45.289134",
     "status": "completed"
    },
    "tags": []
   },
   "source": [
    "**Most of the people are killed by gunfire**"
   ]
  },
  {
   "cell_type": "code",
   "execution_count": 15,
   "id": "a6f6acdc",
   "metadata": {
    "execution": {
     "iopub.execute_input": "2023-11-27T13:40:45.348283Z",
     "iopub.status.busy": "2023-11-27T13:40:45.347742Z",
     "iopub.status.idle": "2023-11-27T13:40:45.358905Z",
     "shell.execute_reply": "2023-11-27T13:40:45.357969Z"
    },
    "papermill": {
     "duration": 0.03448,
     "end_time": "2023-11-27T13:40:45.361428",
     "exception": false,
     "start_time": "2023-11-27T13:40:45.326948",
     "status": "completed"
    },
    "tags": []
   },
   "outputs": [
    {
     "data": {
      "text/plain": [
       "ammunition\n",
       "missile                        2877\n",
       "live ammunition                1514\n",
       "shell                           675\n",
       "explosive belt                  326\n",
       "bomb                            249\n",
       "mortar fire                      51\n",
       "knife                            37\n",
       "flechette shells                 22\n",
       "rubber-coated metal bullets      19\n",
       "0.22-caliber bullets             16\n",
       "phosphorus shell                 16\n",
       "Qassam rocket                    15\n",
       "car bomb                         15\n",
       "teargas canister                 13\n",
       "rocket                           12\n",
       "grad rocket                       7\n",
       "sponge rounds                     2\n",
       "grenade                           2\n",
       "flare bomb                        1\n",
       "stun grenade                      1\n",
       "rock                              1\n",
       "Name: count, dtype: int64"
      ]
     },
     "execution_count": 15,
     "metadata": {},
     "output_type": "execute_result"
    }
   ],
   "source": [
    "data['ammunition'].value_counts()"
   ]
  },
  {
   "cell_type": "code",
   "execution_count": 16,
   "id": "c23539fd",
   "metadata": {
    "execution": {
     "iopub.execute_input": "2023-11-27T13:40:45.403860Z",
     "iopub.status.busy": "2023-11-27T13:40:45.403405Z",
     "iopub.status.idle": "2023-11-27T13:40:45.416815Z",
     "shell.execute_reply": "2023-11-27T13:40:45.415237Z"
    },
    "papermill": {
     "duration": 0.038687,
     "end_time": "2023-11-27T13:40:45.419695",
     "exception": false,
     "start_time": "2023-11-27T13:40:45.381008",
     "status": "completed"
    },
    "tags": []
   },
   "outputs": [
    {
     "data": {
      "text/plain": [
       "killed_by\n",
       "Israeli security forces    10000\n",
       "Palestinian civilians       1028\n",
       "Israeli civilians             96\n",
       "Name: count, dtype: int64"
      ]
     },
     "execution_count": 16,
     "metadata": {},
     "output_type": "execute_result"
    }
   ],
   "source": [
    "data['killed_by'].value_counts()"
   ]
  },
  {
   "cell_type": "markdown",
   "id": "592e2e11",
   "metadata": {
    "papermill": {
     "duration": 0.01958,
     "end_time": "2023-11-27T13:40:45.458500",
     "exception": false,
     "start_time": "2023-11-27T13:40:45.438920",
     "status": "completed"
    },
    "tags": []
   },
   "source": [
    "**Israeli security forces killed more than 90% of the total kills , there seems to be a little resistance from the palestinians**"
   ]
  },
  {
   "cell_type": "code",
   "execution_count": 17,
   "id": "0cf1bd13",
   "metadata": {
    "execution": {
     "iopub.execute_input": "2023-11-27T13:40:45.499765Z",
     "iopub.status.busy": "2023-11-27T13:40:45.499258Z",
     "iopub.status.idle": "2023-11-27T13:40:45.509285Z",
     "shell.execute_reply": "2023-11-27T13:40:45.507815Z"
    },
    "papermill": {
     "duration": 0.034189,
     "end_time": "2023-11-27T13:40:45.512050",
     "exception": false,
     "start_time": "2023-11-27T13:40:45.477861",
     "status": "completed"
    },
    "tags": []
   },
   "outputs": [
    {
     "data": {
      "text/plain": [
       "0     Fatally shot by Israeli forces while standing ...\n",
       "1     Fatally shot by Israeli forces while trying to...\n",
       "2     Fatally shot by soldiers while firing at them ...\n",
       "3     Shot in the head by Israeli forces while throw...\n",
       "4     Wounded by soldiers’ gunfire after running awa...\n",
       "5     Wounded by shrapnel from a missile fired by Is...\n",
       "6     Fatally shot by soldiers while participating i...\n",
       "7     Wounded by shrapnel from a missile fired by Is...\n",
       "8     Wounded by shrapnel from a missile fired by Is...\n",
       "9     Fatally shot by a soldier after throwing two M...\n",
       "10    Fatally shot by Border Police officers after f...\n",
       "Name: notes, dtype: object"
      ]
     },
     "execution_count": 17,
     "metadata": {},
     "output_type": "execute_result"
    }
   ],
   "source": [
    "data['notes'].loc[:10]"
   ]
  },
  {
   "cell_type": "code",
   "execution_count": 18,
   "id": "04b895d7",
   "metadata": {
    "execution": {
     "iopub.execute_input": "2023-11-27T13:40:45.553200Z",
     "iopub.status.busy": "2023-11-27T13:40:45.552683Z",
     "iopub.status.idle": "2023-11-27T13:40:47.512857Z",
     "shell.execute_reply": "2023-11-27T13:40:47.511302Z"
    },
    "papermill": {
     "duration": 1.98428,
     "end_time": "2023-11-27T13:40:47.515975",
     "exception": false,
     "start_time": "2023-11-27T13:40:45.531695",
     "status": "completed"
    },
    "tags": []
   },
   "outputs": [
    {
     "data": {
      "image/png": "[encoded data removed]",
      "text/plain": [
       "<Figure size 640x480 with 1 Axes>"
      ]
     },
     "metadata": {},
     "output_type": "display_data"
    }
   ],
   "source": [
    "import seaborn as sn\n",
    "ax = sn.countplot(x='killed_by',data=data)"
   ]
  },
  {
   "cell_type": "code",
   "execution_count": 19,
   "id": "abde1af0",
   "metadata": {
    "execution": {
     "iopub.execute_input": "2023-11-27T13:40:47.558454Z",
     "iopub.status.busy": "2023-11-27T13:40:47.558010Z",
     "iopub.status.idle": "2023-11-27T13:40:47.891993Z",
     "shell.execute_reply": "2023-11-27T13:40:47.890450Z"
    },
    "papermill": {
     "duration": 0.358406,
     "end_time": "2023-11-27T13:40:47.894916",
     "exception": false,
     "start_time": "2023-11-27T13:40:47.536510",
     "status": "completed"
    },
    "tags": []
   },
   "outputs": [
    {
     "data": {
      "text/plain": [
       "<Axes: xlabel='gender', ylabel='count'>"
      ]
     },
     "execution_count": 19,
     "metadata": {},
     "output_type": "execute_result"
    },
    {
     "data": {
      "image/png": "[encoded data removed]",
      "text/plain": [
       "<Figure size 640x480 with 1 Axes>"
      ]
     },
     "metadata": {},
     "output_type": "display_data"
    }
   ],
   "source": [
    "sn.countplot(x ='gender', hue = \"killed_by\", data = data)"
   ]
  },
  {
   "cell_type": "code",
   "execution_count": 20,
   "id": "541ce00f",
   "metadata": {
    "execution": {
     "iopub.execute_input": "2023-11-27T13:40:47.941874Z",
     "iopub.status.busy": "2023-11-27T13:40:47.941210Z",
     "iopub.status.idle": "2023-11-27T13:40:47.952915Z",
     "shell.execute_reply": "2023-11-27T13:40:47.951470Z"
    },
    "papermill": {
     "duration": 0.036503,
     "end_time": "2023-11-27T13:40:47.955435",
     "exception": false,
     "start_time": "2023-11-27T13:40:47.918932",
     "status": "completed"
    },
    "tags": []
   },
   "outputs": [
    {
     "data": {
      "text/plain": [
       "gender\n",
       "M    9681\n",
       "F    1423\n",
       "Name: count, dtype: int64"
      ]
     },
     "execution_count": 20,
     "metadata": {},
     "output_type": "execute_result"
    }
   ],
   "source": [
    "data['gender'].value_counts()"
   ]
  },
  {
   "cell_type": "markdown",
   "id": "e9962433",
   "metadata": {
    "papermill": {
     "duration": 0.021257,
     "end_time": "2023-11-27T13:40:47.998831",
     "exception": false,
     "start_time": "2023-11-27T13:40:47.977574",
     "status": "completed"
    },
    "tags": []
   },
   "source": [
    "**Most people killed were Men**"
   ]
  },
  {
   "cell_type": "code",
   "execution_count": 21,
   "id": "096739a1",
   "metadata": {
    "execution": {
     "iopub.execute_input": "2023-11-27T13:40:48.045864Z",
     "iopub.status.busy": "2023-11-27T13:40:48.044471Z",
     "iopub.status.idle": "2023-11-27T13:40:48.417608Z",
     "shell.execute_reply": "2023-11-27T13:40:48.416058Z"
    },
    "papermill": {
     "duration": 0.400567,
     "end_time": "2023-11-27T13:40:48.420784",
     "exception": false,
     "start_time": "2023-11-27T13:40:48.020217",
     "status": "completed"
    },
    "tags": []
   },
   "outputs": [
    {
     "data": {
      "text/plain": [
       "<Axes: xlabel='event_location_region', ylabel='count'>"
      ]
     },
     "execution_count": 21,
     "metadata": {},
     "output_type": "execute_result"
    },
    {
     "data": {
      "image/png": "[encoded data removed]",
      "text/plain": [
       "<Figure size 640x480 with 1 Axes>"
      ]
     },
     "metadata": {},
     "output_type": "display_data"
    }
   ],
   "source": [
    "sn.countplot(x ='event_location_region', hue = \"killed_by\", data = data)"
   ]
  },
  {
   "cell_type": "code",
   "execution_count": 22,
   "id": "c3553b12",
   "metadata": {
    "execution": {
     "iopub.execute_input": "2023-11-27T13:40:48.472231Z",
     "iopub.status.busy": "2023-11-27T13:40:48.470886Z",
     "iopub.status.idle": "2023-11-27T13:40:48.477722Z",
     "shell.execute_reply": "2023-11-27T13:40:48.475950Z"
    },
    "papermill": {
     "duration": 0.039359,
     "end_time": "2023-11-27T13:40:48.483574",
     "exception": false,
     "start_time": "2023-11-27T13:40:48.444215",
     "status": "completed"
    },
    "tags": []
   },
   "outputs": [],
   "source": [
    "import matplotlib.pyplot as plt"
   ]
  },
  {
   "cell_type": "code",
   "execution_count": 23,
   "id": "3117a827",
   "metadata": {
    "execution": {
     "iopub.execute_input": "2023-11-27T13:40:48.539672Z",
     "iopub.status.busy": "2023-11-27T13:40:48.539234Z",
     "iopub.status.idle": "2023-11-27T13:40:48.973211Z",
     "shell.execute_reply": "2023-11-27T13:40:48.972025Z"
    },
    "papermill": {
     "duration": 0.464912,
     "end_time": "2023-11-27T13:40:48.976253",
     "exception": false,
     "start_time": "2023-11-27T13:40:48.511341",
     "status": "completed"
    },
    "tags": []
   },
   "outputs": [
    {
     "data": {
      "image/png": "[encoded data removed]",
      "text/plain": [
       "<Figure size 640x480 with 1 Axes>"
      ]
     },
     "metadata": {},
     "output_type": "display_data"
    }
   ],
   "source": [
    "sn.countplot(x ='took_part_in_the_hostilities', hue = \"killed_by\", data = data)\n",
    "ax = plt.gca()\n",
    "ax.tick_params(axis='x', rotation=20)"
   ]
  },
  {
   "cell_type": "markdown",
   "id": "02e9537e",
   "metadata": {
    "papermill": {
     "duration": 0.02212,
     "end_time": "2023-11-27T13:40:49.020466",
     "exception": false,
     "start_time": "2023-11-27T13:40:48.998346",
     "status": "completed"
    },
    "tags": []
   },
   "source": [
    "**Palestinians were killed irrespective of taking part in hostilitiy**"
   ]
  },
  {
   "cell_type": "code",
   "execution_count": 24,
   "id": "932f1f2b",
   "metadata": {
    "execution": {
     "iopub.execute_input": "2023-11-27T13:40:49.066983Z",
     "iopub.status.busy": "2023-11-27T13:40:49.066311Z",
     "iopub.status.idle": "2023-11-27T13:40:49.452574Z",
     "shell.execute_reply": "2023-11-27T13:40:49.451142Z"
    },
    "papermill": {
     "duration": 0.413104,
     "end_time": "2023-11-27T13:40:49.455590",
     "exception": false,
     "start_time": "2023-11-27T13:40:49.042486",
     "status": "completed"
    },
    "tags": []
   },
   "outputs": [
    {
     "data": {
      "image/png": "[encoded data removed]",
      "text/plain": [
       "<Figure size 640x480 with 1 Axes>"
      ]
     },
     "metadata": {},
     "output_type": "display_data"
    }
   ],
   "source": [
    "sn.countplot(x ='took_part_in_the_hostilities', hue = \"citizenship\", data = data)\n",
    "ax = plt.gca()\n",
    "ax.tick_params(axis='x', rotation=20)"
   ]
  },
  {
   "cell_type": "code",
   "execution_count": 25,
   "id": "0ecd9b16",
   "metadata": {
    "execution": {
     "iopub.execute_input": "2023-11-27T13:40:49.503532Z",
     "iopub.status.busy": "2023-11-27T13:40:49.503106Z",
     "iopub.status.idle": "2023-11-27T13:40:49.523372Z",
     "shell.execute_reply": "2023-11-27T13:40:49.521970Z"
    },
    "papermill": {
     "duration": 0.047255,
     "end_time": "2023-11-27T13:40:49.525763",
     "exception": false,
     "start_time": "2023-11-27T13:40:49.478508",
     "status": "completed"
    },
    "tags": []
   },
   "outputs": [],
   "source": [
    "data['date_of_death'] = pd.to_datetime(data['date_of_death'])"
   ]
  },
  {
   "cell_type": "code",
   "execution_count": 26,
   "id": "25e95d70",
   "metadata": {
    "execution": {
     "iopub.execute_input": "2023-11-27T13:40:49.573835Z",
     "iopub.status.busy": "2023-11-27T13:40:49.573359Z",
     "iopub.status.idle": "2023-11-27T13:40:49.586565Z",
     "shell.execute_reply": "2023-11-27T13:40:49.585536Z"
    },
    "papermill": {
     "duration": 0.040995,
     "end_time": "2023-11-27T13:40:49.589278",
     "exception": false,
     "start_time": "2023-11-27T13:40:49.548283",
     "status": "completed"
    },
    "tags": []
   },
   "outputs": [
    {
     "data": {
      "text/plain": [
       "date_of_death\n",
       "2008-12-27    341\n",
       "2014-07-20    225\n",
       "2014-08-01    197\n",
       "2014-07-29    196\n",
       "2014-07-30    131\n",
       "             ... \n",
       "2010-09-21      1\n",
       "2010-09-25      1\n",
       "2010-09-15      1\n",
       "2010-09-17      1\n",
       "2000-10-02      1\n",
       "Name: count, Length: 2593, dtype: int64"
      ]
     },
     "execution_count": 26,
     "metadata": {},
     "output_type": "execute_result"
    }
   ],
   "source": [
    "data['date_of_death'].value_counts()"
   ]
  },
  {
   "cell_type": "code",
   "execution_count": 27,
   "id": "28bf32ff",
   "metadata": {
    "execution": {
     "iopub.execute_input": "2023-11-27T13:40:49.640926Z",
     "iopub.status.busy": "2023-11-27T13:40:49.640480Z",
     "iopub.status.idle": "2023-11-27T13:40:49.734852Z",
     "shell.execute_reply": "2023-11-27T13:40:49.733541Z"
    },
    "papermill": {
     "duration": 0.12511,
     "end_time": "2023-11-27T13:40:49.738490",
     "exception": false,
     "start_time": "2023-11-27T13:40:49.613380",
     "status": "completed"
    },
    "tags": []
   },
   "outputs": [],
   "source": [
    "path = '/kaggle/input/fatalities-in-the-israeli-palestinian/fatalities_isr_pse_conflict_2000_to_2023.csv'\n",
    "df = pd.read_csv(path , parse_dates=['date_of_death'])"
   ]
  },
  {
   "cell_type": "code",
   "execution_count": 28,
   "id": "116b1353",
   "metadata": {
    "execution": {
     "iopub.execute_input": "2023-11-27T13:40:49.787948Z",
     "iopub.status.busy": "2023-11-27T13:40:49.787479Z",
     "iopub.status.idle": "2023-11-27T13:40:49.803658Z",
     "shell.execute_reply": "2023-11-27T13:40:49.802435Z"
    },
    "papermill": {
     "duration": 0.044839,
     "end_time": "2023-11-27T13:40:49.807050",
     "exception": false,
     "start_time": "2023-11-27T13:40:49.762211",
     "status": "completed"
    },
    "tags": []
   },
   "outputs": [],
   "source": [
    "df = df.sort_values(\"date_of_death\").set_index(\"date_of_death\")"
   ]
  },
  {
   "cell_type": "code",
   "execution_count": 29,
   "id": "4168befb",
   "metadata": {
    "execution": {
     "iopub.execute_input": "2023-11-27T13:40:49.860069Z",
     "iopub.status.busy": "2023-11-27T13:40:49.859589Z",
     "iopub.status.idle": "2023-11-27T13:40:49.884773Z",
     "shell.execute_reply": "2023-11-27T13:40:49.883242Z"
    },
    "papermill": {
     "duration": 0.056321,
     "end_time": "2023-11-27T13:40:49.887863",
     "exception": false,
     "start_time": "2023-11-27T13:40:49.831542",
     "status": "completed"
    },
    "tags": []
   },
   "outputs": [
    {
     "data": {
      "text/html": [
       "<div>\n",
       "<style scoped>\n",
       "    .dataframe tbody tr th:only-of-type {\n",
       "        vertical-align: middle;\n",
       "    }\n",
       "\n",
       "    .dataframe tbody tr th {\n",
       "        vertical-align: top;\n",
       "    }\n",
       "\n",
       "    .dataframe thead th {\n",
       "        text-align: right;\n",
       "    }\n",
       "</style>\n",
       "<table border=\"1\" class=\"dataframe\">\n",
       "  <thead>\n",
       "    <tr style=\"text-align: right;\">\n",
       "      <th></th>\n",
       "      <th>name</th>\n",
       "      <th>date_of_event</th>\n",
       "      <th>age</th>\n",
       "      <th>citizenship</th>\n",
       "      <th>event_location</th>\n",
       "      <th>event_location_district</th>\n",
       "      <th>event_location_region</th>\n",
       "      <th>gender</th>\n",
       "      <th>took_part_in_the_hostilities</th>\n",
       "      <th>place_of_residence</th>\n",
       "      <th>place_of_residence_district</th>\n",
       "      <th>type_of_injury</th>\n",
       "      <th>ammunition</th>\n",
       "      <th>killed_by</th>\n",
       "      <th>notes</th>\n",
       "    </tr>\n",
       "    <tr>\n",
       "      <th>date_of_death</th>\n",
       "      <th></th>\n",
       "      <th></th>\n",
       "      <th></th>\n",
       "      <th></th>\n",
       "      <th></th>\n",
       "      <th></th>\n",
       "      <th></th>\n",
       "      <th></th>\n",
       "      <th></th>\n",
       "      <th></th>\n",
       "      <th></th>\n",
       "      <th></th>\n",
       "      <th></th>\n",
       "      <th></th>\n",
       "      <th></th>\n",
       "    </tr>\n",
       "  </thead>\n",
       "  <tbody>\n",
       "    <tr>\n",
       "      <th>2000-10-02</th>\n",
       "      <td>Wichlav Zalsevsky</td>\n",
       "      <td>2000-10-02</td>\n",
       "      <td>24.0</td>\n",
       "      <td>Israeli</td>\n",
       "      <td>Masha</td>\n",
       "      <td>Salfit</td>\n",
       "      <td>West Bank</td>\n",
       "      <td>M</td>\n",
       "      <td>Israelis</td>\n",
       "      <td>Ashdod</td>\n",
       "      <td>Israel</td>\n",
       "      <td>gunfire</td>\n",
       "      <td>live ammunition</td>\n",
       "      <td>Palestinian civilians</td>\n",
       "      <td>NaN</td>\n",
       "    </tr>\n",
       "    <tr>\n",
       "      <th>2000-10-07</th>\n",
       "      <td>Fahed Mustafa 'Odeh Baker</td>\n",
       "      <td>2000-10-07</td>\n",
       "      <td>21.0</td>\n",
       "      <td>Palestinian</td>\n",
       "      <td>Bidya</td>\n",
       "      <td>Salfit</td>\n",
       "      <td>West Bank</td>\n",
       "      <td>M</td>\n",
       "      <td>No</td>\n",
       "      <td>Bidya</td>\n",
       "      <td>Salfit</td>\n",
       "      <td>gunfire</td>\n",
       "      <td>NaN</td>\n",
       "      <td>Israeli civilians</td>\n",
       "      <td>Killed by settlers who rioted in Biddya village.</td>\n",
       "    </tr>\n",
       "    <tr>\n",
       "      <th>2000-10-07</th>\n",
       "      <td>Hillel Lieberman</td>\n",
       "      <td>2000-10-07</td>\n",
       "      <td>36.0</td>\n",
       "      <td>Israeli</td>\n",
       "      <td>Nablus</td>\n",
       "      <td>Nablus</td>\n",
       "      <td>West Bank</td>\n",
       "      <td>M</td>\n",
       "      <td>Israelis</td>\n",
       "      <td>Elon Moreh</td>\n",
       "      <td>Nablus</td>\n",
       "      <td>gunfire</td>\n",
       "      <td>live ammunition</td>\n",
       "      <td>Palestinian civilians</td>\n",
       "      <td>His body was found a day after he disappeared.</td>\n",
       "    </tr>\n",
       "    <tr>\n",
       "      <th>2000-10-17</th>\n",
       "      <td>Farid Musa 'Issa a-Nesasreh</td>\n",
       "      <td>2000-10-17</td>\n",
       "      <td>28.0</td>\n",
       "      <td>Palestinian</td>\n",
       "      <td>Beit Furik</td>\n",
       "      <td>Nablus</td>\n",
       "      <td>West Bank</td>\n",
       "      <td>M</td>\n",
       "      <td>Unknown</td>\n",
       "      <td>Beit Furik</td>\n",
       "      <td>Nablus</td>\n",
       "      <td>gunfire</td>\n",
       "      <td>NaN</td>\n",
       "      <td>Israeli civilians</td>\n",
       "      <td>Killed by a settler from Itamar while harvesti...</td>\n",
       "    </tr>\n",
       "    <tr>\n",
       "      <th>2000-10-19</th>\n",
       "      <td>Binyamin Herling</td>\n",
       "      <td>2000-10-19</td>\n",
       "      <td>64.0</td>\n",
       "      <td>Israeli</td>\n",
       "      <td>Nablus</td>\n",
       "      <td>Nablus</td>\n",
       "      <td>West Bank</td>\n",
       "      <td>M</td>\n",
       "      <td>Israelis</td>\n",
       "      <td>Kedumim</td>\n",
       "      <td>Tulkarm</td>\n",
       "      <td>gunfire</td>\n",
       "      <td>live ammunition</td>\n",
       "      <td>Palestinian civilians</td>\n",
       "      <td>Killed while hiking on Mt. Eival.</td>\n",
       "    </tr>\n",
       "  </tbody>\n",
       "</table>\n",
       "</div>"
      ],
      "text/plain": [
       "                                      name date_of_event   age  citizenship  \\\n",
       "date_of_death                                                                 \n",
       "2000-10-02               Wichlav Zalsevsky    2000-10-02  24.0      Israeli   \n",
       "2000-10-07       Fahed Mustafa 'Odeh Baker    2000-10-07  21.0  Palestinian   \n",
       "2000-10-07                Hillel Lieberman    2000-10-07  36.0      Israeli   \n",
       "2000-10-17     Farid Musa 'Issa a-Nesasreh    2000-10-17  28.0  Palestinian   \n",
       "2000-10-19                Binyamin Herling    2000-10-19  64.0      Israeli   \n",
       "\n",
       "              event_location event_location_district event_location_region  \\\n",
       "date_of_death                                                                \n",
       "2000-10-02             Masha                  Salfit             West Bank   \n",
       "2000-10-07             Bidya                  Salfit             West Bank   \n",
       "2000-10-07            Nablus                  Nablus             West Bank   \n",
       "2000-10-17        Beit Furik                  Nablus             West Bank   \n",
       "2000-10-19            Nablus                  Nablus             West Bank   \n",
       "\n",
       "              gender took_part_in_the_hostilities place_of_residence  \\\n",
       "date_of_death                                                          \n",
       "2000-10-02         M                     Israelis             Ashdod   \n",
       "2000-10-07         M                           No              Bidya   \n",
       "2000-10-07         M                     Israelis         Elon Moreh   \n",
       "2000-10-17         M                      Unknown         Beit Furik   \n",
       "2000-10-19         M                     Israelis            Kedumim   \n",
       "\n",
       "              place_of_residence_district type_of_injury       ammunition  \\\n",
       "date_of_death                                                               \n",
       "2000-10-02                         Israel        gunfire  live ammunition   \n",
       "2000-10-07                         Salfit        gunfire              NaN   \n",
       "2000-10-07                         Nablus        gunfire  live ammunition   \n",
       "2000-10-17                         Nablus        gunfire              NaN   \n",
       "2000-10-19                        Tulkarm        gunfire  live ammunition   \n",
       "\n",
       "                           killed_by  \\\n",
       "date_of_death                          \n",
       "2000-10-02     Palestinian civilians   \n",
       "2000-10-07         Israeli civilians   \n",
       "2000-10-07     Palestinian civilians   \n",
       "2000-10-17         Israeli civilians   \n",
       "2000-10-19     Palestinian civilians   \n",
       "\n",
       "                                                           notes  \n",
       "date_of_death                                                     \n",
       "2000-10-02                                                   NaN  \n",
       "2000-10-07      Killed by settlers who rioted in Biddya village.  \n",
       "2000-10-07        His body was found a day after he disappeared.  \n",
       "2000-10-17     Killed by a settler from Itamar while harvesti...  \n",
       "2000-10-19                     Killed while hiking on Mt. Eival.  "
      ]
     },
     "execution_count": 29,
     "metadata": {},
     "output_type": "execute_result"
    }
   ],
   "source": [
    "df.head()"
   ]
  },
  {
   "cell_type": "code",
   "execution_count": 30,
   "id": "9c2903e5",
   "metadata": {
    "execution": {
     "iopub.execute_input": "2023-11-27T13:40:49.939795Z",
     "iopub.status.busy": "2023-11-27T13:40:49.939308Z",
     "iopub.status.idle": "2023-11-27T13:40:50.275676Z",
     "shell.execute_reply": "2023-11-27T13:40:50.274009Z"
    },
    "papermill": {
     "duration": 0.366042,
     "end_time": "2023-11-27T13:40:50.278756",
     "exception": false,
     "start_time": "2023-11-27T13:40:49.912714",
     "status": "completed"
    },
    "tags": []
   },
   "outputs": [
    {
     "data": {
      "image/png": "[encoded data removed]",
      "text/plain": [
       "<Figure size 640x480 with 1 Axes>"
      ]
     },
     "metadata": {},
     "output_type": "display_data"
    }
   ],
   "source": [
    "sn.countplot(x ='citizenship', hue = \"killed_by\", data = data)\n",
    "ax = plt.gca()\n",
    "ax.tick_params(axis='x', rotation=20)"
   ]
  },
  {
   "cell_type": "code",
   "execution_count": 31,
   "id": "39e9cc80",
   "metadata": {
    "execution": {
     "iopub.execute_input": "2023-11-27T13:40:50.330097Z",
     "iopub.status.busy": "2023-11-27T13:40:50.329579Z",
     "iopub.status.idle": "2023-11-27T13:40:50.339372Z",
     "shell.execute_reply": "2023-11-27T13:40:50.337624Z"
    },
    "papermill": {
     "duration": 0.03898,
     "end_time": "2023-11-27T13:40:50.342300",
     "exception": false,
     "start_time": "2023-11-27T13:40:50.303320",
     "status": "completed"
    },
    "tags": []
   },
   "outputs": [],
   "source": [
    "selected_rows = df[df['citizenship'] == 'Jordanian']"
   ]
  },
  {
   "cell_type": "code",
   "execution_count": 32,
   "id": "61991954",
   "metadata": {
    "execution": {
     "iopub.execute_input": "2023-11-27T13:40:50.393770Z",
     "iopub.status.busy": "2023-11-27T13:40:50.393337Z",
     "iopub.status.idle": "2023-11-27T13:40:50.416643Z",
     "shell.execute_reply": "2023-11-27T13:40:50.415464Z"
    },
    "papermill": {
     "duration": 0.052485,
     "end_time": "2023-11-27T13:40:50.419319",
     "exception": false,
     "start_time": "2023-11-27T13:40:50.366834",
     "status": "completed"
    },
    "tags": []
   },
   "outputs": [
    {
     "data": {
      "text/html": [
       "<div>\n",
       "<style scoped>\n",
       "    .dataframe tbody tr th:only-of-type {\n",
       "        vertical-align: middle;\n",
       "    }\n",
       "\n",
       "    .dataframe tbody tr th {\n",
       "        vertical-align: top;\n",
       "    }\n",
       "\n",
       "    .dataframe thead th {\n",
       "        text-align: right;\n",
       "    }\n",
       "</style>\n",
       "<table border=\"1\" class=\"dataframe\">\n",
       "  <thead>\n",
       "    <tr style=\"text-align: right;\">\n",
       "      <th></th>\n",
       "      <th>name</th>\n",
       "      <th>date_of_event</th>\n",
       "      <th>age</th>\n",
       "      <th>citizenship</th>\n",
       "      <th>event_location</th>\n",
       "      <th>event_location_district</th>\n",
       "      <th>event_location_region</th>\n",
       "      <th>gender</th>\n",
       "      <th>took_part_in_the_hostilities</th>\n",
       "      <th>place_of_residence</th>\n",
       "      <th>place_of_residence_district</th>\n",
       "      <th>type_of_injury</th>\n",
       "      <th>ammunition</th>\n",
       "      <th>killed_by</th>\n",
       "      <th>notes</th>\n",
       "    </tr>\n",
       "    <tr>\n",
       "      <th>date_of_death</th>\n",
       "      <th></th>\n",
       "      <th></th>\n",
       "      <th></th>\n",
       "      <th></th>\n",
       "      <th></th>\n",
       "      <th></th>\n",
       "      <th></th>\n",
       "      <th></th>\n",
       "      <th></th>\n",
       "      <th></th>\n",
       "      <th></th>\n",
       "      <th></th>\n",
       "      <th></th>\n",
       "      <th></th>\n",
       "      <th></th>\n",
       "    </tr>\n",
       "  </thead>\n",
       "  <tbody>\n",
       "    <tr>\n",
       "      <th>2014-07-28</th>\n",
       "      <td>Riham Hussein Ahmad al-Far</td>\n",
       "      <td>2014-07-28</td>\n",
       "      <td>26.0</td>\n",
       "      <td>Jordanian</td>\n",
       "      <td>al-Maghazi R.C.</td>\n",
       "      <td>Deir al-Balah</td>\n",
       "      <td>Gaza Strip</td>\n",
       "      <td>F</td>\n",
       "      <td>No</td>\n",
       "      <td>al-Maghazi R.C.</td>\n",
       "      <td>Deir al-Balah</td>\n",
       "      <td>gunfire</td>\n",
       "      <td>NaN</td>\n",
       "      <td>Israeli security forces</td>\n",
       "      <td>Killed in her home together with eight other m...</td>\n",
       "    </tr>\n",
       "    <tr>\n",
       "      <th>2022-04-11</th>\n",
       "      <td>'Abdallah Taysir Musa Srur</td>\n",
       "      <td>2022-04-12</td>\n",
       "      <td>40.0</td>\n",
       "      <td>Jordanian</td>\n",
       "      <td>Ashkelon</td>\n",
       "      <td>Israel</td>\n",
       "      <td>Israel</td>\n",
       "      <td>M</td>\n",
       "      <td>NaN</td>\n",
       "      <td>Hebron</td>\n",
       "      <td>Hebron</td>\n",
       "      <td>gunfire</td>\n",
       "      <td>live ammunition</td>\n",
       "      <td>Israeli security forces</td>\n",
       "      <td>Fatally shot by a police officer after, accord...</td>\n",
       "    </tr>\n",
       "  </tbody>\n",
       "</table>\n",
       "</div>"
      ],
      "text/plain": [
       "                                     name date_of_event   age citizenship  \\\n",
       "date_of_death                                                               \n",
       "2014-07-28     Riham Hussein Ahmad al-Far    2014-07-28  26.0   Jordanian   \n",
       "2022-04-11     'Abdallah Taysir Musa Srur    2022-04-12  40.0   Jordanian   \n",
       "\n",
       "                event_location event_location_district event_location_region  \\\n",
       "date_of_death                                                                  \n",
       "2014-07-28     al-Maghazi R.C.           Deir al-Balah            Gaza Strip   \n",
       "2022-04-11            Ashkelon                  Israel                Israel   \n",
       "\n",
       "              gender took_part_in_the_hostilities place_of_residence  \\\n",
       "date_of_death                                                          \n",
       "2014-07-28         F                           No    al-Maghazi R.C.   \n",
       "2022-04-11         M                          NaN             Hebron   \n",
       "\n",
       "              place_of_residence_district type_of_injury       ammunition  \\\n",
       "date_of_death                                                               \n",
       "2014-07-28                  Deir al-Balah        gunfire              NaN   \n",
       "2022-04-11                         Hebron        gunfire  live ammunition   \n",
       "\n",
       "                             killed_by  \\\n",
       "date_of_death                            \n",
       "2014-07-28     Israeli security forces   \n",
       "2022-04-11     Israeli security forces   \n",
       "\n",
       "                                                           notes  \n",
       "date_of_death                                                     \n",
       "2014-07-28     Killed in her home together with eight other m...  \n",
       "2022-04-11     Fatally shot by a police officer after, accord...  "
      ]
     },
     "execution_count": 32,
     "metadata": {},
     "output_type": "execute_result"
    }
   ],
   "source": [
    "selected_rows"
   ]
  },
  {
   "cell_type": "markdown",
   "id": "4100ed6f",
   "metadata": {
    "papermill": {
     "duration": 0.024601,
     "end_time": "2023-11-27T13:40:50.468605",
     "exception": false,
     "start_time": "2023-11-27T13:40:50.444004",
     "status": "completed"
    },
    "tags": []
   },
   "source": [
    "**Only two Jordanians were killed , both by the Israeli Security Forces in the span of 8 years**"
   ]
  },
  {
   "cell_type": "code",
   "execution_count": 33,
   "id": "9c3c83e6",
   "metadata": {
    "execution": {
     "iopub.execute_input": "2023-11-27T13:40:50.521927Z",
     "iopub.status.busy": "2023-11-27T13:40:50.520653Z",
     "iopub.status.idle": "2023-11-27T13:40:50.540386Z",
     "shell.execute_reply": "2023-11-27T13:40:50.539066Z"
    },
    "papermill": {
     "duration": 0.050531,
     "end_time": "2023-11-27T13:40:50.543544",
     "exception": false,
     "start_time": "2023-11-27T13:40:50.493013",
     "status": "completed"
    },
    "tags": []
   },
   "outputs": [],
   "source": [
    "selected_rows = data[data['date_of_death'] != data['date_of_event']]"
   ]
  },
  {
   "cell_type": "code",
   "execution_count": 34,
   "id": "3cdfa6cc",
   "metadata": {
    "execution": {
     "iopub.execute_input": "2023-11-27T13:40:50.596598Z",
     "iopub.status.busy": "2023-11-27T13:40:50.596136Z",
     "iopub.status.idle": "2023-11-27T13:40:50.626297Z",
     "shell.execute_reply": "2023-11-27T13:40:50.624981Z"
    },
    "papermill": {
     "duration": 0.06068,
     "end_time": "2023-11-27T13:40:50.629386",
     "exception": false,
     "start_time": "2023-11-27T13:40:50.568706",
     "status": "completed"
    },
    "tags": []
   },
   "outputs": [
    {
     "data": {
      "text/html": [
       "<div>\n",
       "<style scoped>\n",
       "    .dataframe tbody tr th:only-of-type {\n",
       "        vertical-align: middle;\n",
       "    }\n",
       "\n",
       "    .dataframe tbody tr th {\n",
       "        vertical-align: top;\n",
       "    }\n",
       "\n",
       "    .dataframe thead th {\n",
       "        text-align: right;\n",
       "    }\n",
       "</style>\n",
       "<table border=\"1\" class=\"dataframe\">\n",
       "  <thead>\n",
       "    <tr style=\"text-align: right;\">\n",
       "      <th></th>\n",
       "      <th>name</th>\n",
       "      <th>date_of_event</th>\n",
       "      <th>age</th>\n",
       "      <th>citizenship</th>\n",
       "      <th>event_location</th>\n",
       "      <th>event_location_district</th>\n",
       "      <th>event_location_region</th>\n",
       "      <th>date_of_death</th>\n",
       "      <th>gender</th>\n",
       "      <th>took_part_in_the_hostilities</th>\n",
       "      <th>place_of_residence</th>\n",
       "      <th>place_of_residence_district</th>\n",
       "      <th>type_of_injury</th>\n",
       "      <th>ammunition</th>\n",
       "      <th>killed_by</th>\n",
       "      <th>notes</th>\n",
       "    </tr>\n",
       "  </thead>\n",
       "  <tbody>\n",
       "    <tr>\n",
       "      <th>5</th>\n",
       "      <td>'Ata Yasser 'Ata Musa</td>\n",
       "      <td>2023-09-19</td>\n",
       "      <td>29.0</td>\n",
       "      <td>Palestinian</td>\n",
       "      <td>Jenin R.C.</td>\n",
       "      <td>Jenin</td>\n",
       "      <td>West Bank</td>\n",
       "      <td>2023-09-20</td>\n",
       "      <td>M</td>\n",
       "      <td>NaN</td>\n",
       "      <td>Jenin</td>\n",
       "      <td>Jenin</td>\n",
       "      <td>gunfire</td>\n",
       "      <td>missile</td>\n",
       "      <td>Israeli security forces</td>\n",
       "      <td>Wounded by shrapnel from a missile fired by Is...</td>\n",
       "    </tr>\n",
       "    <tr>\n",
       "      <th>20</th>\n",
       "      <td>Muhammad Naser Salem Dawood</td>\n",
       "      <td>2023-08-16</td>\n",
       "      <td>19.0</td>\n",
       "      <td>Palestinian</td>\n",
       "      <td>Balata R.C.</td>\n",
       "      <td>Nablus</td>\n",
       "      <td>West Bank</td>\n",
       "      <td>2023-08-19</td>\n",
       "      <td>M</td>\n",
       "      <td>NaN</td>\n",
       "      <td>Balata R.C.</td>\n",
       "      <td>Nablus</td>\n",
       "      <td>gunfire</td>\n",
       "      <td>live ammunition</td>\n",
       "      <td>Israeli security forces</td>\n",
       "      <td>Wounded by Israeli forces during a fire exchan...</td>\n",
       "    </tr>\n",
       "    <tr>\n",
       "      <th>24</th>\n",
       "      <td>Amir Ahmad Muhammad Khalifah</td>\n",
       "      <td>2023-08-10</td>\n",
       "      <td>24.0</td>\n",
       "      <td>Palestinian</td>\n",
       "      <td>Nablus</td>\n",
       "      <td>Nablus</td>\n",
       "      <td>West Bank</td>\n",
       "      <td>2023-08-19</td>\n",
       "      <td>M</td>\n",
       "      <td>NaN</td>\n",
       "      <td>Ein Beit al-Maa R.C.</td>\n",
       "      <td>Nablus</td>\n",
       "      <td>gunfire</td>\n",
       "      <td>live ammunition</td>\n",
       "      <td>Israeli security forces</td>\n",
       "      <td>Fatally shot by Israeli forces during a fire e...</td>\n",
       "    </tr>\n",
       "    <tr>\n",
       "      <th>32</th>\n",
       "      <td>Ramzi Fathi 'Abd a-Rahman Hamed</td>\n",
       "      <td>2023-08-02</td>\n",
       "      <td>17.0</td>\n",
       "      <td>Palestinian</td>\n",
       "      <td>Ofra</td>\n",
       "      <td>Ramallah and al-Bira</td>\n",
       "      <td>West Bank</td>\n",
       "      <td>2023-08-07</td>\n",
       "      <td>M</td>\n",
       "      <td>NaN</td>\n",
       "      <td>Silwad</td>\n",
       "      <td>Ramallah and al-Bira</td>\n",
       "      <td>gunfire</td>\n",
       "      <td>live ammunition</td>\n",
       "      <td>Israeli security forces</td>\n",
       "      <td>Wounded by soldiers’ gunfire when, according t...</td>\n",
       "    </tr>\n",
       "    <tr>\n",
       "      <th>59</th>\n",
       "      <td>'Iz a-Din Mahmoud Khalil Abu 'On</td>\n",
       "      <td>2023-07-03</td>\n",
       "      <td>19.0</td>\n",
       "      <td>Palestinian</td>\n",
       "      <td>Jenin</td>\n",
       "      <td>Jenin</td>\n",
       "      <td>West Bank</td>\n",
       "      <td>2023-08-25</td>\n",
       "      <td>M</td>\n",
       "      <td>NaN</td>\n",
       "      <td>Jaba'</td>\n",
       "      <td>Jenin</td>\n",
       "      <td>gunfire</td>\n",
       "      <td>live ammunition</td>\n",
       "      <td>Israeli security forces</td>\n",
       "      <td>Wounded by Israeli gunfire while participating...</td>\n",
       "    </tr>\n",
       "    <tr>\n",
       "      <th>...</th>\n",
       "      <td>...</td>\n",
       "      <td>...</td>\n",
       "      <td>...</td>\n",
       "      <td>...</td>\n",
       "      <td>...</td>\n",
       "      <td>...</td>\n",
       "      <td>...</td>\n",
       "      <td>...</td>\n",
       "      <td>...</td>\n",
       "      <td>...</td>\n",
       "      <td>...</td>\n",
       "      <td>...</td>\n",
       "      <td>...</td>\n",
       "      <td>...</td>\n",
       "      <td>...</td>\n",
       "      <td>...</td>\n",
       "    </tr>\n",
       "    <tr>\n",
       "      <th>10965</th>\n",
       "      <td>Taha Ribhi Abu Sneineh</td>\n",
       "      <td>2001-10-07</td>\n",
       "      <td>18.0</td>\n",
       "      <td>Palestinian</td>\n",
       "      <td>Hebron</td>\n",
       "      <td>Hebron</td>\n",
       "      <td>West Bank</td>\n",
       "      <td>2002-02-12</td>\n",
       "      <td>M</td>\n",
       "      <td>No</td>\n",
       "      <td>Hebron</td>\n",
       "      <td>Hebron</td>\n",
       "      <td>gunfire</td>\n",
       "      <td>NaN</td>\n",
       "      <td>Israeli security forces</td>\n",
       "      <td>Killed during ongoing IDF operation in the Abu...</td>\n",
       "    </tr>\n",
       "    <tr>\n",
       "      <th>11019</th>\n",
       "      <td>David Cohen</td>\n",
       "      <td>2001-07-13</td>\n",
       "      <td>28.0</td>\n",
       "      <td>Israeli</td>\n",
       "      <td>Kiryat Arba</td>\n",
       "      <td>Hebron</td>\n",
       "      <td>West Bank</td>\n",
       "      <td>2001-07-14</td>\n",
       "      <td>M</td>\n",
       "      <td>Israelis</td>\n",
       "      <td>Beitar Illit</td>\n",
       "      <td>Bethlehem</td>\n",
       "      <td>gunfire</td>\n",
       "      <td>NaN</td>\n",
       "      <td>Palestinian civilians</td>\n",
       "      <td>Killed when Palestinians opened fire at an IDF...</td>\n",
       "    </tr>\n",
       "    <tr>\n",
       "      <th>11031</th>\n",
       "      <td>Yehuda Haim Shoham</td>\n",
       "      <td>2001-06-05</td>\n",
       "      <td>NaN</td>\n",
       "      <td>Israeli</td>\n",
       "      <td>Shilo Junction</td>\n",
       "      <td>Ramallah and al-Bira</td>\n",
       "      <td>West Bank</td>\n",
       "      <td>2001-06-11</td>\n",
       "      <td>M</td>\n",
       "      <td>Israelis</td>\n",
       "      <td>Shilo</td>\n",
       "      <td>Ramallah and al-Bira</td>\n",
       "      <td>stones throwing</td>\n",
       "      <td>NaN</td>\n",
       "      <td>Palestinian civilians</td>\n",
       "      <td>Wounded in the head by a stone thrown at him, ...</td>\n",
       "    </tr>\n",
       "    <tr>\n",
       "      <th>11038</th>\n",
       "      <td>Yael Yulia Sklianik</td>\n",
       "      <td>2001-06-01</td>\n",
       "      <td>15.0</td>\n",
       "      <td>Israeli</td>\n",
       "      <td>Tel Aviv-Yafo</td>\n",
       "      <td>Israel</td>\n",
       "      <td>Israel</td>\n",
       "      <td>2001-06-03</td>\n",
       "      <td>F</td>\n",
       "      <td>Israelis</td>\n",
       "      <td>Holon</td>\n",
       "      <td>Israel</td>\n",
       "      <td>explosion</td>\n",
       "      <td>bomb</td>\n",
       "      <td>Palestinian civilians</td>\n",
       "      <td>Killed in a suicide bombing at the entrance to...</td>\n",
       "    </tr>\n",
       "    <tr>\n",
       "      <th>11062</th>\n",
       "      <td>Yosef Ishran</td>\n",
       "      <td>2001-05-09</td>\n",
       "      <td>14.0</td>\n",
       "      <td>Israeli</td>\n",
       "      <td>Tekoa</td>\n",
       "      <td>Bethlehem</td>\n",
       "      <td>West Bank</td>\n",
       "      <td>2001-05-08</td>\n",
       "      <td>M</td>\n",
       "      <td>Israelis</td>\n",
       "      <td>Tekoa</td>\n",
       "      <td>Bethlehem</td>\n",
       "      <td>beating</td>\n",
       "      <td>NaN</td>\n",
       "      <td>Palestinian civilians</td>\n",
       "      <td>Killed by Palestinians who crushed his skull w...</td>\n",
       "    </tr>\n",
       "  </tbody>\n",
       "</table>\n",
       "<p>940 rows × 16 columns</p>\n",
       "</div>"
      ],
      "text/plain": [
       "                                   name date_of_event   age  citizenship  \\\n",
       "5                 'Ata Yasser 'Ata Musa    2023-09-19  29.0  Palestinian   \n",
       "20          Muhammad Naser Salem Dawood    2023-08-16  19.0  Palestinian   \n",
       "24         Amir Ahmad Muhammad Khalifah    2023-08-10  24.0  Palestinian   \n",
       "32      Ramzi Fathi 'Abd a-Rahman Hamed    2023-08-02  17.0  Palestinian   \n",
       "59     'Iz a-Din Mahmoud Khalil Abu 'On    2023-07-03  19.0  Palestinian   \n",
       "...                                 ...           ...   ...          ...   \n",
       "10965            Taha Ribhi Abu Sneineh    2001-10-07  18.0  Palestinian   \n",
       "11019                       David Cohen    2001-07-13  28.0      Israeli   \n",
       "11031                Yehuda Haim Shoham    2001-06-05   NaN      Israeli   \n",
       "11038               Yael Yulia Sklianik    2001-06-01  15.0      Israeli   \n",
       "11062                      Yosef Ishran    2001-05-09  14.0      Israeli   \n",
       "\n",
       "       event_location event_location_district event_location_region  \\\n",
       "5          Jenin R.C.                   Jenin             West Bank   \n",
       "20        Balata R.C.                  Nablus             West Bank   \n",
       "24             Nablus                  Nablus             West Bank   \n",
       "32               Ofra    Ramallah and al-Bira             West Bank   \n",
       "59              Jenin                   Jenin             West Bank   \n",
       "...               ...                     ...                   ...   \n",
       "10965          Hebron                  Hebron             West Bank   \n",
       "11019     Kiryat Arba                  Hebron             West Bank   \n",
       "11031  Shilo Junction    Ramallah and al-Bira             West Bank   \n",
       "11038   Tel Aviv-Yafo                  Israel                Israel   \n",
       "11062           Tekoa               Bethlehem             West Bank   \n",
       "\n",
       "      date_of_death gender took_part_in_the_hostilities    place_of_residence  \\\n",
       "5        2023-09-20      M                          NaN                 Jenin   \n",
       "20       2023-08-19      M                          NaN           Balata R.C.   \n",
       "24       2023-08-19      M                          NaN  Ein Beit al-Maa R.C.   \n",
       "32       2023-08-07      M                          NaN                Silwad   \n",
       "59       2023-08-25      M                          NaN                 Jaba'   \n",
       "...             ...    ...                          ...                   ...   \n",
       "10965    2002-02-12      M                           No                Hebron   \n",
       "11019    2001-07-14      M                     Israelis          Beitar Illit   \n",
       "11031    2001-06-11      M                     Israelis                 Shilo   \n",
       "11038    2001-06-03      F                     Israelis                 Holon   \n",
       "11062    2001-05-08      M                     Israelis                 Tekoa   \n",
       "\n",
       "      place_of_residence_district   type_of_injury       ammunition  \\\n",
       "5                           Jenin          gunfire          missile   \n",
       "20                         Nablus          gunfire  live ammunition   \n",
       "24                         Nablus          gunfire  live ammunition   \n",
       "32           Ramallah and al-Bira          gunfire  live ammunition   \n",
       "59                          Jenin          gunfire  live ammunition   \n",
       "...                           ...              ...              ...   \n",
       "10965                      Hebron          gunfire              NaN   \n",
       "11019                   Bethlehem          gunfire              NaN   \n",
       "11031        Ramallah and al-Bira  stones throwing              NaN   \n",
       "11038                      Israel        explosion             bomb   \n",
       "11062                   Bethlehem          beating              NaN   \n",
       "\n",
       "                     killed_by  \\\n",
       "5      Israeli security forces   \n",
       "20     Israeli security forces   \n",
       "24     Israeli security forces   \n",
       "32     Israeli security forces   \n",
       "59     Israeli security forces   \n",
       "...                        ...   \n",
       "10965  Israeli security forces   \n",
       "11019    Palestinian civilians   \n",
       "11031    Palestinian civilians   \n",
       "11038    Palestinian civilians   \n",
       "11062    Palestinian civilians   \n",
       "\n",
       "                                                   notes  \n",
       "5      Wounded by shrapnel from a missile fired by Is...  \n",
       "20     Wounded by Israeli forces during a fire exchan...  \n",
       "24     Fatally shot by Israeli forces during a fire e...  \n",
       "32     Wounded by soldiers’ gunfire when, according t...  \n",
       "59     Wounded by Israeli gunfire while participating...  \n",
       "...                                                  ...  \n",
       "10965  Killed during ongoing IDF operation in the Abu...  \n",
       "11019  Killed when Palestinians opened fire at an IDF...  \n",
       "11031  Wounded in the head by a stone thrown at him, ...  \n",
       "11038  Killed in a suicide bombing at the entrance to...  \n",
       "11062  Killed by Palestinians who crushed his skull w...  \n",
       "\n",
       "[940 rows x 16 columns]"
      ]
     },
     "execution_count": 34,
     "metadata": {},
     "output_type": "execute_result"
    }
   ],
   "source": [
    "selected_rows"
   ]
  },
  {
   "cell_type": "code",
   "execution_count": 35,
   "id": "9f8868c2",
   "metadata": {
    "execution": {
     "iopub.execute_input": "2023-11-27T13:40:50.684679Z",
     "iopub.status.busy": "2023-11-27T13:40:50.684202Z",
     "iopub.status.idle": "2023-11-27T13:40:50.698445Z",
     "shell.execute_reply": "2023-11-27T13:40:50.697012Z"
    },
    "papermill": {
     "duration": 0.045233,
     "end_time": "2023-11-27T13:40:50.701381",
     "exception": false,
     "start_time": "2023-11-27T13:40:50.656148",
     "status": "completed"
    },
    "tags": []
   },
   "outputs": [],
   "source": [
    "selected_rows = data[(data['citizenship'] == 'Palestinian') & (data['took_part_in_the_hostilities'] == 'No')]"
   ]
  },
  {
   "cell_type": "code",
   "execution_count": 36,
   "id": "2c2c2d50",
   "metadata": {
    "execution": {
     "iopub.execute_input": "2023-11-27T13:40:50.754133Z",
     "iopub.status.busy": "2023-11-27T13:40:50.753715Z",
     "iopub.status.idle": "2023-11-27T13:40:50.785296Z",
     "shell.execute_reply": "2023-11-27T13:40:50.784042Z"
    },
    "papermill": {
     "duration": 0.061294,
     "end_time": "2023-11-27T13:40:50.788120",
     "exception": false,
     "start_time": "2023-11-27T13:40:50.726826",
     "status": "completed"
    },
    "tags": []
   },
   "outputs": [
    {
     "data": {
      "text/html": [
       "<div>\n",
       "<style scoped>\n",
       "    .dataframe tbody tr th:only-of-type {\n",
       "        vertical-align: middle;\n",
       "    }\n",
       "\n",
       "    .dataframe tbody tr th {\n",
       "        vertical-align: top;\n",
       "    }\n",
       "\n",
       "    .dataframe thead th {\n",
       "        text-align: right;\n",
       "    }\n",
       "</style>\n",
       "<table border=\"1\" class=\"dataframe\">\n",
       "  <thead>\n",
       "    <tr style=\"text-align: right;\">\n",
       "      <th></th>\n",
       "      <th>name</th>\n",
       "      <th>date_of_event</th>\n",
       "      <th>age</th>\n",
       "      <th>citizenship</th>\n",
       "      <th>event_location</th>\n",
       "      <th>event_location_district</th>\n",
       "      <th>event_location_region</th>\n",
       "      <th>date_of_death</th>\n",
       "      <th>gender</th>\n",
       "      <th>took_part_in_the_hostilities</th>\n",
       "      <th>place_of_residence</th>\n",
       "      <th>place_of_residence_district</th>\n",
       "      <th>type_of_injury</th>\n",
       "      <th>ammunition</th>\n",
       "      <th>killed_by</th>\n",
       "      <th>notes</th>\n",
       "    </tr>\n",
       "  </thead>\n",
       "  <tbody>\n",
       "    <tr>\n",
       "      <th>6</th>\n",
       "      <td>Yusef Salem Yusef Radwan</td>\n",
       "      <td>2023-09-19</td>\n",
       "      <td>24.0</td>\n",
       "      <td>Palestinian</td>\n",
       "      <td>Gaza City</td>\n",
       "      <td>Gaza</td>\n",
       "      <td>Gaza Strip</td>\n",
       "      <td>2023-09-19</td>\n",
       "      <td>M</td>\n",
       "      <td>No</td>\n",
       "      <td>Khan Yunis</td>\n",
       "      <td>Khan Yunis</td>\n",
       "      <td>gunfire</td>\n",
       "      <td>live ammunition</td>\n",
       "      <td>Israeli security forces</td>\n",
       "      <td>Fatally shot by soldiers while participating i...</td>\n",
       "    </tr>\n",
       "    <tr>\n",
       "      <th>114</th>\n",
       "      <td>Iman 'Alaa 'Ata 'Adas</td>\n",
       "      <td>2023-05-09</td>\n",
       "      <td>17.0</td>\n",
       "      <td>Palestinian</td>\n",
       "      <td>Gaza City</td>\n",
       "      <td>Gaza</td>\n",
       "      <td>Gaza Strip</td>\n",
       "      <td>2023-05-09</td>\n",
       "      <td>F</td>\n",
       "      <td>No</td>\n",
       "      <td>Gaza city</td>\n",
       "      <td>Gaza</td>\n",
       "      <td>gunfire</td>\n",
       "      <td>missile</td>\n",
       "      <td>Israeli security forces</td>\n",
       "      <td>Killed together with her sister in their home,...</td>\n",
       "    </tr>\n",
       "    <tr>\n",
       "      <th>115</th>\n",
       "      <td>'Ali Tareq Ibrahim 'Iz a-Din</td>\n",
       "      <td>2023-05-09</td>\n",
       "      <td>8.0</td>\n",
       "      <td>Palestinian</td>\n",
       "      <td>Gaza City</td>\n",
       "      <td>Gaza</td>\n",
       "      <td>Gaza Strip</td>\n",
       "      <td>2023-05-09</td>\n",
       "      <td>M</td>\n",
       "      <td>No</td>\n",
       "      <td>Gaza city</td>\n",
       "      <td>Gaza</td>\n",
       "      <td>gunfire</td>\n",
       "      <td>missile</td>\n",
       "      <td>Israeli security forces</td>\n",
       "      <td>Killed together with his sister, a minor, and ...</td>\n",
       "    </tr>\n",
       "    <tr>\n",
       "      <th>119</th>\n",
       "      <td>Jamal Saber Muhammad Khaswan</td>\n",
       "      <td>2023-05-09</td>\n",
       "      <td>52.0</td>\n",
       "      <td>Palestinian</td>\n",
       "      <td>Gaza City</td>\n",
       "      <td>Gaza</td>\n",
       "      <td>Gaza Strip</td>\n",
       "      <td>2023-05-09</td>\n",
       "      <td>M</td>\n",
       "      <td>No</td>\n",
       "      <td>Gaza city</td>\n",
       "      <td>Gaza</td>\n",
       "      <td>gunfire</td>\n",
       "      <td>missile</td>\n",
       "      <td>Israeli security forces</td>\n",
       "      <td>Killed together with his wife and son when a m...</td>\n",
       "    </tr>\n",
       "    <tr>\n",
       "      <th>120</th>\n",
       "      <td>Yusef Jamal Saber Khaswan</td>\n",
       "      <td>2023-05-09</td>\n",
       "      <td>19.0</td>\n",
       "      <td>Palestinian</td>\n",
       "      <td>Gaza City</td>\n",
       "      <td>Gaza</td>\n",
       "      <td>Gaza Strip</td>\n",
       "      <td>2023-05-09</td>\n",
       "      <td>M</td>\n",
       "      <td>No</td>\n",
       "      <td>Gaza city</td>\n",
       "      <td>Gaza</td>\n",
       "      <td>gunfire</td>\n",
       "      <td>missile</td>\n",
       "      <td>Israeli security forces</td>\n",
       "      <td>Killed together with his parents when a missil...</td>\n",
       "    </tr>\n",
       "    <tr>\n",
       "      <th>...</th>\n",
       "      <td>...</td>\n",
       "      <td>...</td>\n",
       "      <td>...</td>\n",
       "      <td>...</td>\n",
       "      <td>...</td>\n",
       "      <td>...</td>\n",
       "      <td>...</td>\n",
       "      <td>...</td>\n",
       "      <td>...</td>\n",
       "      <td>...</td>\n",
       "      <td>...</td>\n",
       "      <td>...</td>\n",
       "      <td>...</td>\n",
       "      <td>...</td>\n",
       "      <td>...</td>\n",
       "      <td>...</td>\n",
       "    </tr>\n",
       "    <tr>\n",
       "      <th>11018</th>\n",
       "      <td>Muhammad Helmi a-Tmeizi</td>\n",
       "      <td>2001-07-19</td>\n",
       "      <td>23.0</td>\n",
       "      <td>Palestinian</td>\n",
       "      <td>Idhna</td>\n",
       "      <td>Hebron</td>\n",
       "      <td>West Bank</td>\n",
       "      <td>2001-07-19</td>\n",
       "      <td>M</td>\n",
       "      <td>No</td>\n",
       "      <td>Idhna</td>\n",
       "      <td>Hebron</td>\n",
       "      <td>gunfire</td>\n",
       "      <td>NaN</td>\n",
       "      <td>Israeli civilians</td>\n",
       "      <td>Killed in an attack by settlers while he was d...</td>\n",
       "    </tr>\n",
       "    <tr>\n",
       "      <th>11030</th>\n",
       "      <td>'Awni 'Ali Hadad</td>\n",
       "      <td>2001-06-13</td>\n",
       "      <td>46.0</td>\n",
       "      <td>Palestinian</td>\n",
       "      <td>Hizma</td>\n",
       "      <td>al-Quds</td>\n",
       "      <td>West Bank</td>\n",
       "      <td>2001-06-13</td>\n",
       "      <td>M</td>\n",
       "      <td>No</td>\n",
       "      <td>Hebron</td>\n",
       "      <td>Hebron</td>\n",
       "      <td>gunfire</td>\n",
       "      <td>NaN</td>\n",
       "      <td>Israeli civilians</td>\n",
       "      <td>Killed by Israelis who shot him while he was d...</td>\n",
       "    </tr>\n",
       "    <tr>\n",
       "      <th>11095</th>\n",
       "      <td>Muhammad Hamed 'Ali Shalash</td>\n",
       "      <td>2000-12-17</td>\n",
       "      <td>18.0</td>\n",
       "      <td>Palestinian</td>\n",
       "      <td>'Abud</td>\n",
       "      <td>Ramallah and al-Bira</td>\n",
       "      <td>West Bank</td>\n",
       "      <td>2000-12-17</td>\n",
       "      <td>M</td>\n",
       "      <td>No</td>\n",
       "      <td>Shuqba</td>\n",
       "      <td>Ramallah and al-Bira</td>\n",
       "      <td>gunfire</td>\n",
       "      <td>NaN</td>\n",
       "      <td>Israeli civilians</td>\n",
       "      <td>Killed by settler gunfire when throwing stones...</td>\n",
       "    </tr>\n",
       "    <tr>\n",
       "      <th>11110</th>\n",
       "      <td>Mustafa Mahmoud Musa 'Alian</td>\n",
       "      <td>2000-11-14</td>\n",
       "      <td>47.0</td>\n",
       "      <td>Palestinian</td>\n",
       "      <td>Kafr Malik</td>\n",
       "      <td>Ramallah and al-Bira</td>\n",
       "      <td>West Bank</td>\n",
       "      <td>2000-11-14</td>\n",
       "      <td>M</td>\n",
       "      <td>No</td>\n",
       "      <td>Askar R.C.</td>\n",
       "      <td>Nablus</td>\n",
       "      <td>stones throwing</td>\n",
       "      <td>NaN</td>\n",
       "      <td>Israeli civilians</td>\n",
       "      <td>Killed as a result of being hit in the chest b...</td>\n",
       "    </tr>\n",
       "    <tr>\n",
       "      <th>11122</th>\n",
       "      <td>Fahed Mustafa 'Odeh Baker</td>\n",
       "      <td>2000-10-07</td>\n",
       "      <td>21.0</td>\n",
       "      <td>Palestinian</td>\n",
       "      <td>Bidya</td>\n",
       "      <td>Salfit</td>\n",
       "      <td>West Bank</td>\n",
       "      <td>2000-10-07</td>\n",
       "      <td>M</td>\n",
       "      <td>No</td>\n",
       "      <td>Bidya</td>\n",
       "      <td>Salfit</td>\n",
       "      <td>gunfire</td>\n",
       "      <td>NaN</td>\n",
       "      <td>Israeli civilians</td>\n",
       "      <td>Killed by settlers who rioted in Biddya village.</td>\n",
       "    </tr>\n",
       "  </tbody>\n",
       "</table>\n",
       "<p>4652 rows × 16 columns</p>\n",
       "</div>"
      ],
      "text/plain": [
       "                               name date_of_event   age  citizenship  \\\n",
       "6          Yusef Salem Yusef Radwan    2023-09-19  24.0  Palestinian   \n",
       "114           Iman 'Alaa 'Ata 'Adas    2023-05-09  17.0  Palestinian   \n",
       "115    'Ali Tareq Ibrahim 'Iz a-Din    2023-05-09   8.0  Palestinian   \n",
       "119    Jamal Saber Muhammad Khaswan    2023-05-09  52.0  Palestinian   \n",
       "120       Yusef Jamal Saber Khaswan    2023-05-09  19.0  Palestinian   \n",
       "...                             ...           ...   ...          ...   \n",
       "11018       Muhammad Helmi a-Tmeizi    2001-07-19  23.0  Palestinian   \n",
       "11030              'Awni 'Ali Hadad    2001-06-13  46.0  Palestinian   \n",
       "11095   Muhammad Hamed 'Ali Shalash    2000-12-17  18.0  Palestinian   \n",
       "11110   Mustafa Mahmoud Musa 'Alian    2000-11-14  47.0  Palestinian   \n",
       "11122     Fahed Mustafa 'Odeh Baker    2000-10-07  21.0  Palestinian   \n",
       "\n",
       "      event_location event_location_district event_location_region  \\\n",
       "6          Gaza City                    Gaza            Gaza Strip   \n",
       "114        Gaza City                    Gaza            Gaza Strip   \n",
       "115        Gaza City                    Gaza            Gaza Strip   \n",
       "119        Gaza City                    Gaza            Gaza Strip   \n",
       "120        Gaza City                    Gaza            Gaza Strip   \n",
       "...              ...                     ...                   ...   \n",
       "11018          Idhna                  Hebron             West Bank   \n",
       "11030          Hizma                 al-Quds             West Bank   \n",
       "11095          'Abud    Ramallah and al-Bira             West Bank   \n",
       "11110     Kafr Malik    Ramallah and al-Bira             West Bank   \n",
       "11122          Bidya                  Salfit             West Bank   \n",
       "\n",
       "      date_of_death gender took_part_in_the_hostilities place_of_residence  \\\n",
       "6        2023-09-19      M                           No         Khan Yunis   \n",
       "114      2023-05-09      F                           No          Gaza city   \n",
       "115      2023-05-09      M                           No          Gaza city   \n",
       "119      2023-05-09      M                           No          Gaza city   \n",
       "120      2023-05-09      M                           No          Gaza city   \n",
       "...             ...    ...                          ...                ...   \n",
       "11018    2001-07-19      M                           No              Idhna   \n",
       "11030    2001-06-13      M                           No             Hebron   \n",
       "11095    2000-12-17      M                           No             Shuqba   \n",
       "11110    2000-11-14      M                           No         Askar R.C.   \n",
       "11122    2000-10-07      M                           No              Bidya   \n",
       "\n",
       "      place_of_residence_district   type_of_injury       ammunition  \\\n",
       "6                      Khan Yunis          gunfire  live ammunition   \n",
       "114                          Gaza          gunfire          missile   \n",
       "115                          Gaza          gunfire          missile   \n",
       "119                          Gaza          gunfire          missile   \n",
       "120                          Gaza          gunfire          missile   \n",
       "...                           ...              ...              ...   \n",
       "11018                      Hebron          gunfire              NaN   \n",
       "11030                      Hebron          gunfire              NaN   \n",
       "11095        Ramallah and al-Bira          gunfire              NaN   \n",
       "11110                      Nablus  stones throwing              NaN   \n",
       "11122                      Salfit          gunfire              NaN   \n",
       "\n",
       "                     killed_by  \\\n",
       "6      Israeli security forces   \n",
       "114    Israeli security forces   \n",
       "115    Israeli security forces   \n",
       "119    Israeli security forces   \n",
       "120    Israeli security forces   \n",
       "...                        ...   \n",
       "11018        Israeli civilians   \n",
       "11030        Israeli civilians   \n",
       "11095        Israeli civilians   \n",
       "11110        Israeli civilians   \n",
       "11122        Israeli civilians   \n",
       "\n",
       "                                                   notes  \n",
       "6      Fatally shot by soldiers while participating i...  \n",
       "114    Killed together with her sister in their home,...  \n",
       "115    Killed together with his sister, a minor, and ...  \n",
       "119    Killed together with his wife and son when a m...  \n",
       "120    Killed together with his parents when a missil...  \n",
       "...                                                  ...  \n",
       "11018  Killed in an attack by settlers while he was d...  \n",
       "11030  Killed by Israelis who shot him while he was d...  \n",
       "11095  Killed by settler gunfire when throwing stones...  \n",
       "11110  Killed as a result of being hit in the chest b...  \n",
       "11122   Killed by settlers who rioted in Biddya village.  \n",
       "\n",
       "[4652 rows x 16 columns]"
      ]
     },
     "execution_count": 36,
     "metadata": {},
     "output_type": "execute_result"
    }
   ],
   "source": [
    "selected_rows"
   ]
  },
  {
   "cell_type": "markdown",
   "id": "b1410baf",
   "metadata": {
    "papermill": {
     "duration": 0.025768,
     "end_time": "2023-11-27T13:40:50.839357",
     "exception": false,
     "start_time": "2023-11-27T13:40:50.813589",
     "status": "completed"
    },
    "tags": []
   },
   "source": [
    "**There are over 4600 palestinians killed depite showing no hostility**"
   ]
  },
  {
   "cell_type": "code",
   "execution_count": 37,
   "id": "916b7250",
   "metadata": {
    "execution": {
     "iopub.execute_input": "2023-11-27T13:40:50.896348Z",
     "iopub.status.busy": "2023-11-27T13:40:50.895821Z",
     "iopub.status.idle": "2023-11-27T13:40:50.934863Z",
     "shell.execute_reply": "2023-11-27T13:40:50.933361Z"
    },
    "papermill": {
     "duration": 0.070895,
     "end_time": "2023-11-27T13:40:50.938066",
     "exception": false,
     "start_time": "2023-11-27T13:40:50.867171",
     "status": "completed"
    },
    "tags": []
   },
   "outputs": [
    {
     "data": {
      "text/html": [
       "<div>\n",
       "<style scoped>\n",
       "    .dataframe tbody tr th:only-of-type {\n",
       "        vertical-align: middle;\n",
       "    }\n",
       "\n",
       "    .dataframe tbody tr th {\n",
       "        vertical-align: top;\n",
       "    }\n",
       "\n",
       "    .dataframe thead th {\n",
       "        text-align: right;\n",
       "    }\n",
       "</style>\n",
       "<table border=\"1\" class=\"dataframe\">\n",
       "  <thead>\n",
       "    <tr style=\"text-align: right;\">\n",
       "      <th></th>\n",
       "      <th>name</th>\n",
       "      <th>date_of_event</th>\n",
       "      <th>age</th>\n",
       "      <th>citizenship</th>\n",
       "      <th>event_location</th>\n",
       "      <th>event_location_district</th>\n",
       "      <th>event_location_region</th>\n",
       "      <th>date_of_death</th>\n",
       "      <th>gender</th>\n",
       "      <th>took_part_in_the_hostilities</th>\n",
       "      <th>place_of_residence</th>\n",
       "      <th>place_of_residence_district</th>\n",
       "      <th>type_of_injury</th>\n",
       "      <th>ammunition</th>\n",
       "      <th>killed_by</th>\n",
       "      <th>notes</th>\n",
       "    </tr>\n",
       "  </thead>\n",
       "  <tbody>\n",
       "    <tr>\n",
       "      <th>94</th>\n",
       "      <td>Iyad al-'Abed al-Hasani</td>\n",
       "      <td>2023-05-12</td>\n",
       "      <td>51.0</td>\n",
       "      <td>Palestinian</td>\n",
       "      <td>Gaza City</td>\n",
       "      <td>Gaza</td>\n",
       "      <td>Gaza Strip</td>\n",
       "      <td>2023-05-12</td>\n",
       "      <td>M</td>\n",
       "      <td>Yes</td>\n",
       "      <td>a-Shati' Camp</td>\n",
       "      <td>Gaza</td>\n",
       "      <td>gunfire</td>\n",
       "      <td>missile</td>\n",
       "      <td>Israeli security forces</td>\n",
       "      <td>Senior Islamic Jihad military wing operative. ...</td>\n",
       "    </tr>\n",
       "    <tr>\n",
       "      <th>95</th>\n",
       "      <td>Muhammad Walid Muhammad 'Abd al-'Aal</td>\n",
       "      <td>2023-05-12</td>\n",
       "      <td>33.0</td>\n",
       "      <td>Palestinian</td>\n",
       "      <td>Gaza City</td>\n",
       "      <td>Gaza</td>\n",
       "      <td>Gaza Strip</td>\n",
       "      <td>2023-05-12</td>\n",
       "      <td>M</td>\n",
       "      <td>Yes</td>\n",
       "      <td>a-Shati' Camp</td>\n",
       "      <td>Gaza</td>\n",
       "      <td>gunfire</td>\n",
       "      <td>missile</td>\n",
       "      <td>Israeli security forces</td>\n",
       "      <td>Killed together with another Islamic Jihad mil...</td>\n",
       "    </tr>\n",
       "    <tr>\n",
       "      <th>96</th>\n",
       "      <td>'Ali Hassan Muhammad Ghali</td>\n",
       "      <td>2023-05-11</td>\n",
       "      <td>49.0</td>\n",
       "      <td>Palestinian</td>\n",
       "      <td>Khan Yunis</td>\n",
       "      <td>Khan Yunis</td>\n",
       "      <td>Gaza Strip</td>\n",
       "      <td>2023-05-11</td>\n",
       "      <td>M</td>\n",
       "      <td>Yes</td>\n",
       "      <td>Khan Yunis</td>\n",
       "      <td>Khan Yunis</td>\n",
       "      <td>gunfire</td>\n",
       "      <td>missile</td>\n",
       "      <td>Israeli security forces</td>\n",
       "      <td>Senior Islamic Jihad military wing operative. ...</td>\n",
       "    </tr>\n",
       "    <tr>\n",
       "      <th>98</th>\n",
       "      <td>Mahmoud Walid Mahmoud 'Abd al-Jawad</td>\n",
       "      <td>2023-05-11</td>\n",
       "      <td>25.0</td>\n",
       "      <td>Palestinian</td>\n",
       "      <td>Khan Yunis</td>\n",
       "      <td>Khan Yunis</td>\n",
       "      <td>Gaza Strip</td>\n",
       "      <td>2023-05-11</td>\n",
       "      <td>M</td>\n",
       "      <td>Yes</td>\n",
       "      <td>Rafah</td>\n",
       "      <td>Rafah</td>\n",
       "      <td>gunfire</td>\n",
       "      <td>missile</td>\n",
       "      <td>Israeli security forces</td>\n",
       "      <td>Killed together with two of his uncles, one of...</td>\n",
       "    </tr>\n",
       "    <tr>\n",
       "      <th>100</th>\n",
       "      <td>Ahmad Mahmoud Hamdan Abu Daqah</td>\n",
       "      <td>2023-05-11</td>\n",
       "      <td>43.0</td>\n",
       "      <td>Palestinian</td>\n",
       "      <td>Bani Suheila</td>\n",
       "      <td>Khan Yunis</td>\n",
       "      <td>Gaza Strip</td>\n",
       "      <td>2023-05-11</td>\n",
       "      <td>M</td>\n",
       "      <td>Yes</td>\n",
       "      <td>Bani Suheila</td>\n",
       "      <td>Khan Yunis</td>\n",
       "      <td>gunfire</td>\n",
       "      <td>missile</td>\n",
       "      <td>Israeli security forces</td>\n",
       "      <td>Senior Islamic Jihad military wing operative. ...</td>\n",
       "    </tr>\n",
       "    <tr>\n",
       "      <th>...</th>\n",
       "      <td>...</td>\n",
       "      <td>...</td>\n",
       "      <td>...</td>\n",
       "      <td>...</td>\n",
       "      <td>...</td>\n",
       "      <td>...</td>\n",
       "      <td>...</td>\n",
       "      <td>...</td>\n",
       "      <td>...</td>\n",
       "      <td>...</td>\n",
       "      <td>...</td>\n",
       "      <td>...</td>\n",
       "      <td>...</td>\n",
       "      <td>...</td>\n",
       "      <td>...</td>\n",
       "      <td>...</td>\n",
       "    </tr>\n",
       "    <tr>\n",
       "      <th>10971</th>\n",
       "      <td>Iyad Samir Qafishah</td>\n",
       "      <td>2001-10-05</td>\n",
       "      <td>28.0</td>\n",
       "      <td>Palestinian</td>\n",
       "      <td>Hebron</td>\n",
       "      <td>Hebron</td>\n",
       "      <td>West Bank</td>\n",
       "      <td>2001-10-05</td>\n",
       "      <td>M</td>\n",
       "      <td>Yes</td>\n",
       "      <td>Hebron</td>\n",
       "      <td>Hebron</td>\n",
       "      <td>gunfire</td>\n",
       "      <td>missile</td>\n",
       "      <td>Israeli security forces</td>\n",
       "      <td>Killed during an IDF incursion into Hebron.</td>\n",
       "    </tr>\n",
       "    <tr>\n",
       "      <th>10972</th>\n",
       "      <td>Nidal Fayad Qafishah</td>\n",
       "      <td>2001-10-05</td>\n",
       "      <td>25.0</td>\n",
       "      <td>Palestinian</td>\n",
       "      <td>Hebron</td>\n",
       "      <td>Hebron</td>\n",
       "      <td>West Bank</td>\n",
       "      <td>2001-10-05</td>\n",
       "      <td>M</td>\n",
       "      <td>Yes</td>\n",
       "      <td>Hebron</td>\n",
       "      <td>Hebron</td>\n",
       "      <td>gunfire</td>\n",
       "      <td>missile</td>\n",
       "      <td>Israeli security forces</td>\n",
       "      <td>Killed during an IDF incursion into Hebron.</td>\n",
       "    </tr>\n",
       "    <tr>\n",
       "      <th>10974</th>\n",
       "      <td>Nazir Muhammad Mahmoud Hammad</td>\n",
       "      <td>2001-10-04</td>\n",
       "      <td>27.0</td>\n",
       "      <td>Palestinian</td>\n",
       "      <td>Afula</td>\n",
       "      <td>Israel</td>\n",
       "      <td>Israel</td>\n",
       "      <td>2001-10-04</td>\n",
       "      <td>M</td>\n",
       "      <td>Yes</td>\n",
       "      <td>al-'Araqah</td>\n",
       "      <td>Jenin</td>\n",
       "      <td>gunfire</td>\n",
       "      <td>NaN</td>\n",
       "      <td>Israeli security forces</td>\n",
       "      <td>Killed by security forces after carrying out a...</td>\n",
       "    </tr>\n",
       "    <tr>\n",
       "      <th>11093</th>\n",
       "      <td>Najib Muhammad Muhammad 'Abido</td>\n",
       "      <td>2000-12-22</td>\n",
       "      <td>19.0</td>\n",
       "      <td>Palestinian</td>\n",
       "      <td>Beit Hagai</td>\n",
       "      <td>Hebron</td>\n",
       "      <td>West Bank</td>\n",
       "      <td>2000-12-22</td>\n",
       "      <td>M</td>\n",
       "      <td>Yes</td>\n",
       "      <td>Hebron</td>\n",
       "      <td>Hebron</td>\n",
       "      <td>gunfire</td>\n",
       "      <td>NaN</td>\n",
       "      <td>Israeli civilians</td>\n",
       "      <td>Killed after he infiltrated a settlement. He w...</td>\n",
       "    </tr>\n",
       "    <tr>\n",
       "      <th>11098</th>\n",
       "      <td>Muhammad Judah Abu 'Aasi</td>\n",
       "      <td>2000-12-07</td>\n",
       "      <td>27.0</td>\n",
       "      <td>Palestinian</td>\n",
       "      <td>Erez (Industrial Zone)</td>\n",
       "      <td>North Gaza</td>\n",
       "      <td>Gaza Strip</td>\n",
       "      <td>2000-12-07</td>\n",
       "      <td>M</td>\n",
       "      <td>Yes</td>\n",
       "      <td>a-Shati' Camp</td>\n",
       "      <td>Gaza</td>\n",
       "      <td>gunfire</td>\n",
       "      <td>live ammunition</td>\n",
       "      <td>Israeli civilians</td>\n",
       "      <td>Killed by an Israeli civilian after he had sta...</td>\n",
       "    </tr>\n",
       "  </tbody>\n",
       "</table>\n",
       "<p>3466 rows × 16 columns</p>\n",
       "</div>"
      ],
      "text/plain": [
       "                                       name date_of_event   age  citizenship  \\\n",
       "94                  Iyad al-'Abed al-Hasani    2023-05-12  51.0  Palestinian   \n",
       "95     Muhammad Walid Muhammad 'Abd al-'Aal    2023-05-12  33.0  Palestinian   \n",
       "96               'Ali Hassan Muhammad Ghali    2023-05-11  49.0  Palestinian   \n",
       "98      Mahmoud Walid Mahmoud 'Abd al-Jawad    2023-05-11  25.0  Palestinian   \n",
       "100          Ahmad Mahmoud Hamdan Abu Daqah    2023-05-11  43.0  Palestinian   \n",
       "...                                     ...           ...   ...          ...   \n",
       "10971                   Iyad Samir Qafishah    2001-10-05  28.0  Palestinian   \n",
       "10972                  Nidal Fayad Qafishah    2001-10-05  25.0  Palestinian   \n",
       "10974         Nazir Muhammad Mahmoud Hammad    2001-10-04  27.0  Palestinian   \n",
       "11093        Najib Muhammad Muhammad 'Abido    2000-12-22  19.0  Palestinian   \n",
       "11098              Muhammad Judah Abu 'Aasi    2000-12-07  27.0  Palestinian   \n",
       "\n",
       "               event_location event_location_district event_location_region  \\\n",
       "94                  Gaza City                    Gaza            Gaza Strip   \n",
       "95                  Gaza City                    Gaza            Gaza Strip   \n",
       "96                 Khan Yunis              Khan Yunis            Gaza Strip   \n",
       "98                 Khan Yunis              Khan Yunis            Gaza Strip   \n",
       "100              Bani Suheila              Khan Yunis            Gaza Strip   \n",
       "...                       ...                     ...                   ...   \n",
       "10971                  Hebron                  Hebron             West Bank   \n",
       "10972                  Hebron                  Hebron             West Bank   \n",
       "10974                   Afula                  Israel                Israel   \n",
       "11093              Beit Hagai                  Hebron             West Bank   \n",
       "11098  Erez (Industrial Zone)              North Gaza            Gaza Strip   \n",
       "\n",
       "      date_of_death gender took_part_in_the_hostilities place_of_residence  \\\n",
       "94       2023-05-12      M                          Yes      a-Shati' Camp   \n",
       "95       2023-05-12      M                          Yes      a-Shati' Camp   \n",
       "96       2023-05-11      M                          Yes         Khan Yunis   \n",
       "98       2023-05-11      M                          Yes              Rafah   \n",
       "100      2023-05-11      M                          Yes       Bani Suheila   \n",
       "...             ...    ...                          ...                ...   \n",
       "10971    2001-10-05      M                          Yes             Hebron   \n",
       "10972    2001-10-05      M                          Yes             Hebron   \n",
       "10974    2001-10-04      M                          Yes         al-'Araqah   \n",
       "11093    2000-12-22      M                          Yes             Hebron   \n",
       "11098    2000-12-07      M                          Yes      a-Shati' Camp   \n",
       "\n",
       "      place_of_residence_district type_of_injury       ammunition  \\\n",
       "94                           Gaza        gunfire          missile   \n",
       "95                           Gaza        gunfire          missile   \n",
       "96                     Khan Yunis        gunfire          missile   \n",
       "98                          Rafah        gunfire          missile   \n",
       "100                    Khan Yunis        gunfire          missile   \n",
       "...                           ...            ...              ...   \n",
       "10971                      Hebron        gunfire          missile   \n",
       "10972                      Hebron        gunfire          missile   \n",
       "10974                       Jenin        gunfire              NaN   \n",
       "11093                      Hebron        gunfire              NaN   \n",
       "11098                        Gaza        gunfire  live ammunition   \n",
       "\n",
       "                     killed_by  \\\n",
       "94     Israeli security forces   \n",
       "95     Israeli security forces   \n",
       "96     Israeli security forces   \n",
       "98     Israeli security forces   \n",
       "100    Israeli security forces   \n",
       "...                        ...   \n",
       "10971  Israeli security forces   \n",
       "10972  Israeli security forces   \n",
       "10974  Israeli security forces   \n",
       "11093        Israeli civilians   \n",
       "11098        Israeli civilians   \n",
       "\n",
       "                                                   notes  \n",
       "94     Senior Islamic Jihad military wing operative. ...  \n",
       "95     Killed together with another Islamic Jihad mil...  \n",
       "96     Senior Islamic Jihad military wing operative. ...  \n",
       "98     Killed together with two of his uncles, one of...  \n",
       "100    Senior Islamic Jihad military wing operative. ...  \n",
       "...                                                  ...  \n",
       "10971        Killed during an IDF incursion into Hebron.  \n",
       "10972        Killed during an IDF incursion into Hebron.  \n",
       "10974  Killed by security forces after carrying out a...  \n",
       "11093  Killed after he infiltrated a settlement. He w...  \n",
       "11098  Killed by an Israeli civilian after he had sta...  \n",
       "\n",
       "[3466 rows x 16 columns]"
      ]
     },
     "execution_count": 37,
     "metadata": {},
     "output_type": "execute_result"
    }
   ],
   "source": [
    "selected_rows = data[(data['citizenship'] == 'Palestinian') & (data['took_part_in_the_hostilities'] == 'Yes')]\n",
    "selected_rows"
   ]
  },
  {
   "cell_type": "code",
   "execution_count": 38,
   "id": "cc008b2a",
   "metadata": {
    "execution": {
     "iopub.execute_input": "2023-11-27T13:40:50.995932Z",
     "iopub.status.busy": "2023-11-27T13:40:50.995437Z",
     "iopub.status.idle": "2023-11-27T13:40:51.024037Z",
     "shell.execute_reply": "2023-11-27T13:40:51.022696Z"
    },
    "papermill": {
     "duration": 0.060768,
     "end_time": "2023-11-27T13:40:51.027016",
     "exception": false,
     "start_time": "2023-11-27T13:40:50.966248",
     "status": "completed"
    },
    "tags": []
   },
   "outputs": [
    {
     "data": {
      "text/html": [
       "<div>\n",
       "<style scoped>\n",
       "    .dataframe tbody tr th:only-of-type {\n",
       "        vertical-align: middle;\n",
       "    }\n",
       "\n",
       "    .dataframe tbody tr th {\n",
       "        vertical-align: top;\n",
       "    }\n",
       "\n",
       "    .dataframe thead th {\n",
       "        text-align: right;\n",
       "    }\n",
       "</style>\n",
       "<table border=\"1\" class=\"dataframe\">\n",
       "  <thead>\n",
       "    <tr style=\"text-align: right;\">\n",
       "      <th></th>\n",
       "      <th>name</th>\n",
       "      <th>date_of_event</th>\n",
       "      <th>age</th>\n",
       "      <th>citizenship</th>\n",
       "      <th>event_location</th>\n",
       "      <th>event_location_district</th>\n",
       "      <th>event_location_region</th>\n",
       "      <th>date_of_death</th>\n",
       "      <th>gender</th>\n",
       "      <th>took_part_in_the_hostilities</th>\n",
       "      <th>place_of_residence</th>\n",
       "      <th>place_of_residence_district</th>\n",
       "      <th>type_of_injury</th>\n",
       "      <th>ammunition</th>\n",
       "      <th>killed_by</th>\n",
       "      <th>notes</th>\n",
       "    </tr>\n",
       "  </thead>\n",
       "  <tbody>\n",
       "    <tr>\n",
       "      <th>5989</th>\n",
       "      <td>Husam Taysir Dwayat</td>\n",
       "      <td>2008-07-02</td>\n",
       "      <td>31.0</td>\n",
       "      <td>Israeli</td>\n",
       "      <td>Jerusalem</td>\n",
       "      <td>Israel</td>\n",
       "      <td>Israel</td>\n",
       "      <td>2008-07-02</td>\n",
       "      <td>M</td>\n",
       "      <td>Yes</td>\n",
       "      <td>Zur Baher</td>\n",
       "      <td>East Jerusalem</td>\n",
       "      <td>gunfire</td>\n",
       "      <td>NaN</td>\n",
       "      <td>Israeli security forces</td>\n",
       "      <td>Shot after he ran over and crushed three drive...</td>\n",
       "    </tr>\n",
       "  </tbody>\n",
       "</table>\n",
       "</div>"
      ],
      "text/plain": [
       "                     name date_of_event   age citizenship event_location  \\\n",
       "5989  Husam Taysir Dwayat    2008-07-02  31.0     Israeli      Jerusalem   \n",
       "\n",
       "     event_location_district event_location_region date_of_death gender  \\\n",
       "5989                  Israel                Israel    2008-07-02      M   \n",
       "\n",
       "     took_part_in_the_hostilities place_of_residence  \\\n",
       "5989                          Yes          Zur Baher   \n",
       "\n",
       "     place_of_residence_district type_of_injury ammunition  \\\n",
       "5989              East Jerusalem        gunfire        NaN   \n",
       "\n",
       "                    killed_by  \\\n",
       "5989  Israeli security forces   \n",
       "\n",
       "                                                  notes  \n",
       "5989  Shot after he ran over and crushed three drive...  "
      ]
     },
     "execution_count": 38,
     "metadata": {},
     "output_type": "execute_result"
    }
   ],
   "source": [
    "selected_rows = data[(data['citizenship'] == 'Israeli') & (data['took_part_in_the_hostilities'] == 'Yes')]\n",
    "selected_rows"
   ]
  },
  {
   "cell_type": "markdown",
   "id": "cbd68138",
   "metadata": {
    "papermill": {
     "duration": 0.027003,
     "end_time": "2023-11-27T13:40:51.080764",
     "exception": false,
     "start_time": "2023-11-27T13:40:51.053761",
     "status": "completed"
    },
    "tags": []
   },
   "source": [
    "**There's only a single Israeli killed for taking part in hostility**"
   ]
  },
  {
   "cell_type": "code",
   "execution_count": 39,
   "id": "6430cd1d",
   "metadata": {
    "execution": {
     "iopub.execute_input": "2023-11-27T13:40:51.138993Z",
     "iopub.status.busy": "2023-11-27T13:40:51.138603Z",
     "iopub.status.idle": "2023-11-27T13:40:51.159532Z",
     "shell.execute_reply": "2023-11-27T13:40:51.158087Z"
    },
    "papermill": {
     "duration": 0.052935,
     "end_time": "2023-11-27T13:40:51.162261",
     "exception": false,
     "start_time": "2023-11-27T13:40:51.109326",
     "status": "completed"
    },
    "tags": []
   },
   "outputs": [
    {
     "data": {
      "text/html": [
       "<div>\n",
       "<style scoped>\n",
       "    .dataframe tbody tr th:only-of-type {\n",
       "        vertical-align: middle;\n",
       "    }\n",
       "\n",
       "    .dataframe tbody tr th {\n",
       "        vertical-align: top;\n",
       "    }\n",
       "\n",
       "    .dataframe thead th {\n",
       "        text-align: right;\n",
       "    }\n",
       "</style>\n",
       "<table border=\"1\" class=\"dataframe\">\n",
       "  <thead>\n",
       "    <tr style=\"text-align: right;\">\n",
       "      <th></th>\n",
       "      <th>name</th>\n",
       "      <th>date_of_event</th>\n",
       "      <th>age</th>\n",
       "      <th>citizenship</th>\n",
       "      <th>event_location</th>\n",
       "      <th>event_location_district</th>\n",
       "      <th>event_location_region</th>\n",
       "      <th>date_of_death</th>\n",
       "      <th>gender</th>\n",
       "      <th>took_part_in_the_hostilities</th>\n",
       "      <th>place_of_residence</th>\n",
       "      <th>place_of_residence_district</th>\n",
       "      <th>type_of_injury</th>\n",
       "      <th>ammunition</th>\n",
       "      <th>killed_by</th>\n",
       "      <th>notes</th>\n",
       "    </tr>\n",
       "  </thead>\n",
       "  <tbody>\n",
       "  </tbody>\n",
       "</table>\n",
       "</div>"
      ],
      "text/plain": [
       "Empty DataFrame\n",
       "Columns: [name, date_of_event, age, citizenship, event_location, event_location_district, event_location_region, date_of_death, gender, took_part_in_the_hostilities, place_of_residence, place_of_residence_district, type_of_injury, ammunition, killed_by, notes]\n",
       "Index: []"
      ]
     },
     "execution_count": 39,
     "metadata": {},
     "output_type": "execute_result"
    }
   ],
   "source": [
    "selected_rows = data[(data['citizenship'] == 'Israeli') & (data['took_part_in_the_hostilities'] == 'Object of targeted killing')]\n",
    "selected_rows"
   ]
  },
  {
   "cell_type": "markdown",
   "id": "cd098dbc",
   "metadata": {
    "papermill": {
     "duration": 0.027517,
     "end_time": "2023-11-27T13:40:51.218215",
     "exception": false,
     "start_time": "2023-11-27T13:40:51.190698",
     "status": "completed"
    },
    "tags": []
   },
   "source": [
    "**No Israeli's were object of targetted killing**"
   ]
  },
  {
   "cell_type": "code",
   "execution_count": 40,
   "id": "8c6aaf53",
   "metadata": {
    "execution": {
     "iopub.execute_input": "2023-11-27T13:40:51.278290Z",
     "iopub.status.busy": "2023-11-27T13:40:51.277846Z",
     "iopub.status.idle": "2023-11-27T13:40:51.320303Z",
     "shell.execute_reply": "2023-11-27T13:40:51.318742Z"
    },
    "papermill": {
     "duration": 0.076824,
     "end_time": "2023-11-27T13:40:51.323568",
     "exception": false,
     "start_time": "2023-11-27T13:40:51.246744",
     "status": "completed"
    },
    "tags": []
   },
   "outputs": [
    {
     "data": {
      "text/html": [
       "<div>\n",
       "<style scoped>\n",
       "    .dataframe tbody tr th:only-of-type {\n",
       "        vertical-align: middle;\n",
       "    }\n",
       "\n",
       "    .dataframe tbody tr th {\n",
       "        vertical-align: top;\n",
       "    }\n",
       "\n",
       "    .dataframe thead th {\n",
       "        text-align: right;\n",
       "    }\n",
       "</style>\n",
       "<table border=\"1\" class=\"dataframe\">\n",
       "  <thead>\n",
       "    <tr style=\"text-align: right;\">\n",
       "      <th></th>\n",
       "      <th>name</th>\n",
       "      <th>date_of_event</th>\n",
       "      <th>age</th>\n",
       "      <th>citizenship</th>\n",
       "      <th>event_location</th>\n",
       "      <th>event_location_district</th>\n",
       "      <th>event_location_region</th>\n",
       "      <th>date_of_death</th>\n",
       "      <th>gender</th>\n",
       "      <th>took_part_in_the_hostilities</th>\n",
       "      <th>place_of_residence</th>\n",
       "      <th>place_of_residence_district</th>\n",
       "      <th>type_of_injury</th>\n",
       "      <th>ammunition</th>\n",
       "      <th>killed_by</th>\n",
       "      <th>notes</th>\n",
       "    </tr>\n",
       "  </thead>\n",
       "  <tbody>\n",
       "    <tr>\n",
       "      <th>4628</th>\n",
       "      <td>Sa'id Muhammad Sha'ban Siyam</td>\n",
       "      <td>2009-01-15</td>\n",
       "      <td>48.0</td>\n",
       "      <td>Palestinian</td>\n",
       "      <td>Gaza City</td>\n",
       "      <td>Gaza</td>\n",
       "      <td>Gaza Strip</td>\n",
       "      <td>2009-01-15</td>\n",
       "      <td>M</td>\n",
       "      <td>Object of targeted killing</td>\n",
       "      <td>Gaza city</td>\n",
       "      <td>Gaza</td>\n",
       "      <td>gunfire</td>\n",
       "      <td>missile</td>\n",
       "      <td>Israeli security forces</td>\n",
       "      <td>A minister in the Hamas government in Gaza, he...</td>\n",
       "    </tr>\n",
       "    <tr>\n",
       "      <th>4633</th>\n",
       "      <td>Muhammad Isma'il Mahmoud Siyam</td>\n",
       "      <td>2009-01-15</td>\n",
       "      <td>27.0</td>\n",
       "      <td>Palestinian</td>\n",
       "      <td>Gaza City</td>\n",
       "      <td>Gaza</td>\n",
       "      <td>Gaza Strip</td>\n",
       "      <td>2009-01-15</td>\n",
       "      <td>M</td>\n",
       "      <td>Object of targeted killing</td>\n",
       "      <td>Gaza city</td>\n",
       "      <td>Gaza</td>\n",
       "      <td>gunfire</td>\n",
       "      <td>missile</td>\n",
       "      <td>Israeli security forces</td>\n",
       "      <td>Bodyguard of Sa'id Siyam, he was killed in the...</td>\n",
       "    </tr>\n",
       "    <tr>\n",
       "      <th>6062</th>\n",
       "      <td>Nafez Kamel Muhammad Mansur</td>\n",
       "      <td>2008-05-01</td>\n",
       "      <td>42.0</td>\n",
       "      <td>Palestinian</td>\n",
       "      <td>Rafah</td>\n",
       "      <td>Rafah</td>\n",
       "      <td>Gaza Strip</td>\n",
       "      <td>2008-05-01</td>\n",
       "      <td>M</td>\n",
       "      <td>Object of targeted killing</td>\n",
       "      <td>Rafah</td>\n",
       "      <td>Rafah</td>\n",
       "      <td>gunfire</td>\n",
       "      <td>missile</td>\n",
       "      <td>Israeli security forces</td>\n",
       "      <td>Killed when walking on the street in a-Shvura ...</td>\n",
       "    </tr>\n",
       "    <tr>\n",
       "      <th>6116</th>\n",
       "      <td>Ibrahim Mahmoud Ibrahim Abu 'Alba</td>\n",
       "      <td>2008-04-14</td>\n",
       "      <td>43.0</td>\n",
       "      <td>Palestinian</td>\n",
       "      <td>Beit Lahiya</td>\n",
       "      <td>North Gaza</td>\n",
       "      <td>Gaza Strip</td>\n",
       "      <td>2008-04-14</td>\n",
       "      <td>M</td>\n",
       "      <td>Object of targeted killing</td>\n",
       "      <td>Beit Lahiya</td>\n",
       "      <td>North Gaza</td>\n",
       "      <td>gunfire</td>\n",
       "      <td>missile</td>\n",
       "      <td>Israeli security forces</td>\n",
       "      <td>Killed while walking on a-Souk Street.</td>\n",
       "    </tr>\n",
       "    <tr>\n",
       "      <th>6232</th>\n",
       "      <td>Ibrahim 'Abd a-Rahman Muhammad 'Atallah</td>\n",
       "      <td>2008-03-01</td>\n",
       "      <td>34.0</td>\n",
       "      <td>Palestinian</td>\n",
       "      <td>Gaza City</td>\n",
       "      <td>Gaza</td>\n",
       "      <td>Gaza Strip</td>\n",
       "      <td>2008-03-01</td>\n",
       "      <td>M</td>\n",
       "      <td>Object of targeted killing</td>\n",
       "      <td>Gaza city</td>\n",
       "      <td>Gaza</td>\n",
       "      <td>gunfire</td>\n",
       "      <td>missile</td>\n",
       "      <td>Israeli security forces</td>\n",
       "      <td>Killed while in his house with his family duri...</td>\n",
       "    </tr>\n",
       "    <tr>\n",
       "      <th>...</th>\n",
       "      <td>...</td>\n",
       "      <td>...</td>\n",
       "      <td>...</td>\n",
       "      <td>...</td>\n",
       "      <td>...</td>\n",
       "      <td>...</td>\n",
       "      <td>...</td>\n",
       "      <td>...</td>\n",
       "      <td>...</td>\n",
       "      <td>...</td>\n",
       "      <td>...</td>\n",
       "      <td>...</td>\n",
       "      <td>...</td>\n",
       "      <td>...</td>\n",
       "      <td>...</td>\n",
       "      <td>...</td>\n",
       "    </tr>\n",
       "    <tr>\n",
       "      <th>10951</th>\n",
       "      <td>Jamal 'Abdallah 'Abayiat</td>\n",
       "      <td>2001-10-18</td>\n",
       "      <td>35.0</td>\n",
       "      <td>Palestinian</td>\n",
       "      <td>Beit Sahur</td>\n",
       "      <td>Bethlehem</td>\n",
       "      <td>West Bank</td>\n",
       "      <td>2001-10-18</td>\n",
       "      <td>M</td>\n",
       "      <td>Object of targeted killing</td>\n",
       "      <td>Bethlehem</td>\n",
       "      <td>Bethlehem</td>\n",
       "      <td>explosion</td>\n",
       "      <td>bomb</td>\n",
       "      <td>Israeli security forces</td>\n",
       "      <td>Killed while driving in a jeep with two relati...</td>\n",
       "    </tr>\n",
       "    <tr>\n",
       "      <th>10952</th>\n",
       "      <td>'Issa 'Atef Khatib 'Abayiat</td>\n",
       "      <td>2001-10-18</td>\n",
       "      <td>28.0</td>\n",
       "      <td>Palestinian</td>\n",
       "      <td>Beit Sahur</td>\n",
       "      <td>Bethlehem</td>\n",
       "      <td>West Bank</td>\n",
       "      <td>2001-10-18</td>\n",
       "      <td>M</td>\n",
       "      <td>Object of targeted killing</td>\n",
       "      <td>Bethlehem</td>\n",
       "      <td>Bethlehem</td>\n",
       "      <td>explosion</td>\n",
       "      <td>bomb</td>\n",
       "      <td>Israeli security forces</td>\n",
       "      <td>Killed while driving in a jeep with two relati...</td>\n",
       "    </tr>\n",
       "    <tr>\n",
       "      <th>10954</th>\n",
       "      <td>Iyad Lafy al-Akhras</td>\n",
       "      <td>2001-10-16</td>\n",
       "      <td>29.0</td>\n",
       "      <td>Palestinian</td>\n",
       "      <td>Rafah</td>\n",
       "      <td>Rafah</td>\n",
       "      <td>Gaza Strip</td>\n",
       "      <td>2001-10-16</td>\n",
       "      <td>M</td>\n",
       "      <td>Object of targeted killing</td>\n",
       "      <td>Rafah</td>\n",
       "      <td>Rafah</td>\n",
       "      <td>explosion</td>\n",
       "      <td>bomb</td>\n",
       "      <td>Israeli security forces</td>\n",
       "      <td>The Shabak (Israel Security Agency) and Palest...</td>\n",
       "    </tr>\n",
       "    <tr>\n",
       "      <th>10955</th>\n",
       "      <td>Ahmad Hassan Marshud</td>\n",
       "      <td>2001-10-15</td>\n",
       "      <td>29.0</td>\n",
       "      <td>Palestinian</td>\n",
       "      <td>Nablus</td>\n",
       "      <td>Nablus</td>\n",
       "      <td>West Bank</td>\n",
       "      <td>2001-10-15</td>\n",
       "      <td>M</td>\n",
       "      <td>Object of targeted killing</td>\n",
       "      <td>Nablus</td>\n",
       "      <td>Nablus</td>\n",
       "      <td>explosion</td>\n",
       "      <td>bomb</td>\n",
       "      <td>Israeli security forces</td>\n",
       "      <td>NaN</td>\n",
       "    </tr>\n",
       "    <tr>\n",
       "      <th>10956</th>\n",
       "      <td>'Abd a-Rahman Sa'id Hamed</td>\n",
       "      <td>2001-10-14</td>\n",
       "      <td>33.0</td>\n",
       "      <td>Palestinian</td>\n",
       "      <td>Qalqiliyah</td>\n",
       "      <td>Qalqiliya</td>\n",
       "      <td>West Bank</td>\n",
       "      <td>2001-10-14</td>\n",
       "      <td>M</td>\n",
       "      <td>Object of targeted killing</td>\n",
       "      <td>Qalqiliya</td>\n",
       "      <td>Qalqiliya</td>\n",
       "      <td>gunfire</td>\n",
       "      <td>live ammunition</td>\n",
       "      <td>Israeli security forces</td>\n",
       "      <td>Killed at the entrance to his house.</td>\n",
       "    </tr>\n",
       "  </tbody>\n",
       "</table>\n",
       "<p>200 rows × 16 columns</p>\n",
       "</div>"
      ],
      "text/plain": [
       "                                          name date_of_event   age  \\\n",
       "4628              Sa'id Muhammad Sha'ban Siyam    2009-01-15  48.0   \n",
       "4633            Muhammad Isma'il Mahmoud Siyam    2009-01-15  27.0   \n",
       "6062               Nafez Kamel Muhammad Mansur    2008-05-01  42.0   \n",
       "6116         Ibrahim Mahmoud Ibrahim Abu 'Alba    2008-04-14  43.0   \n",
       "6232   Ibrahim 'Abd a-Rahman Muhammad 'Atallah    2008-03-01  34.0   \n",
       "...                                        ...           ...   ...   \n",
       "10951                 Jamal 'Abdallah 'Abayiat    2001-10-18  35.0   \n",
       "10952              'Issa 'Atef Khatib 'Abayiat    2001-10-18  28.0   \n",
       "10954                      Iyad Lafy al-Akhras    2001-10-16  29.0   \n",
       "10955                     Ahmad Hassan Marshud    2001-10-15  29.0   \n",
       "10956                'Abd a-Rahman Sa'id Hamed    2001-10-14  33.0   \n",
       "\n",
       "       citizenship event_location event_location_district  \\\n",
       "4628   Palestinian      Gaza City                    Gaza   \n",
       "4633   Palestinian      Gaza City                    Gaza   \n",
       "6062   Palestinian          Rafah                   Rafah   \n",
       "6116   Palestinian    Beit Lahiya              North Gaza   \n",
       "6232   Palestinian      Gaza City                    Gaza   \n",
       "...            ...            ...                     ...   \n",
       "10951  Palestinian     Beit Sahur               Bethlehem   \n",
       "10952  Palestinian     Beit Sahur               Bethlehem   \n",
       "10954  Palestinian          Rafah                   Rafah   \n",
       "10955  Palestinian         Nablus                  Nablus   \n",
       "10956  Palestinian     Qalqiliyah               Qalqiliya   \n",
       "\n",
       "      event_location_region date_of_death gender took_part_in_the_hostilities  \\\n",
       "4628             Gaza Strip    2009-01-15      M   Object of targeted killing   \n",
       "4633             Gaza Strip    2009-01-15      M   Object of targeted killing   \n",
       "6062             Gaza Strip    2008-05-01      M   Object of targeted killing   \n",
       "6116             Gaza Strip    2008-04-14      M   Object of targeted killing   \n",
       "6232             Gaza Strip    2008-03-01      M   Object of targeted killing   \n",
       "...                     ...           ...    ...                          ...   \n",
       "10951             West Bank    2001-10-18      M   Object of targeted killing   \n",
       "10952             West Bank    2001-10-18      M   Object of targeted killing   \n",
       "10954            Gaza Strip    2001-10-16      M   Object of targeted killing   \n",
       "10955             West Bank    2001-10-15      M   Object of targeted killing   \n",
       "10956             West Bank    2001-10-14      M   Object of targeted killing   \n",
       "\n",
       "      place_of_residence place_of_residence_district type_of_injury  \\\n",
       "4628           Gaza city                        Gaza        gunfire   \n",
       "4633           Gaza city                        Gaza        gunfire   \n",
       "6062               Rafah                       Rafah        gunfire   \n",
       "6116         Beit Lahiya                  North Gaza        gunfire   \n",
       "6232           Gaza city                        Gaza        gunfire   \n",
       "...                  ...                         ...            ...   \n",
       "10951          Bethlehem                   Bethlehem      explosion   \n",
       "10952          Bethlehem                   Bethlehem      explosion   \n",
       "10954              Rafah                       Rafah      explosion   \n",
       "10955             Nablus                      Nablus      explosion   \n",
       "10956          Qalqiliya                   Qalqiliya        gunfire   \n",
       "\n",
       "            ammunition                killed_by  \\\n",
       "4628           missile  Israeli security forces   \n",
       "4633           missile  Israeli security forces   \n",
       "6062           missile  Israeli security forces   \n",
       "6116           missile  Israeli security forces   \n",
       "6232           missile  Israeli security forces   \n",
       "...                ...                      ...   \n",
       "10951             bomb  Israeli security forces   \n",
       "10952             bomb  Israeli security forces   \n",
       "10954             bomb  Israeli security forces   \n",
       "10955             bomb  Israeli security forces   \n",
       "10956  live ammunition  Israeli security forces   \n",
       "\n",
       "                                                   notes  \n",
       "4628   A minister in the Hamas government in Gaza, he...  \n",
       "4633   Bodyguard of Sa'id Siyam, he was killed in the...  \n",
       "6062   Killed when walking on the street in a-Shvura ...  \n",
       "6116              Killed while walking on a-Souk Street.  \n",
       "6232   Killed while in his house with his family duri...  \n",
       "...                                                  ...  \n",
       "10951  Killed while driving in a jeep with two relati...  \n",
       "10952  Killed while driving in a jeep with two relati...  \n",
       "10954  The Shabak (Israel Security Agency) and Palest...  \n",
       "10955                                                NaN  \n",
       "10956               Killed at the entrance to his house.  \n",
       "\n",
       "[200 rows x 16 columns]"
      ]
     },
     "execution_count": 40,
     "metadata": {},
     "output_type": "execute_result"
    }
   ],
   "source": [
    "selected_rows = data[(data['citizenship'] == 'Palestinian') & (data['took_part_in_the_hostilities'] == 'Object of targeted killing')]\n",
    "selected_rows"
   ]
  },
  {
   "cell_type": "code",
   "execution_count": 41,
   "id": "adb48405",
   "metadata": {
    "execution": {
     "iopub.execute_input": "2023-11-27T13:40:51.384249Z",
     "iopub.status.busy": "2023-11-27T13:40:51.383764Z",
     "iopub.status.idle": "2023-11-27T13:40:51.396043Z",
     "shell.execute_reply": "2023-11-27T13:40:51.394481Z"
    },
    "papermill": {
     "duration": 0.047245,
     "end_time": "2023-11-27T13:40:51.399048",
     "exception": false,
     "start_time": "2023-11-27T13:40:51.351803",
     "status": "completed"
    },
    "tags": []
   },
   "outputs": [
    {
     "data": {
      "text/plain": [
       "took_part_in_the_hostilities\n",
       "No                            4653\n",
       "Yes                           3467\n",
       "Israelis                       771\n",
       "Unknown                        603\n",
       "Object of targeted killing     200\n",
       "Name: count, dtype: int64"
      ]
     },
     "execution_count": 41,
     "metadata": {},
     "output_type": "execute_result"
    }
   ],
   "source": [
    "data['took_part_in_the_hostilities'].value_counts()"
   ]
  },
  {
   "cell_type": "markdown",
   "id": "2ba576a1",
   "metadata": {
    "papermill": {
     "duration": 0.028531,
     "end_time": "2023-11-27T13:40:51.456161",
     "exception": false,
     "start_time": "2023-11-27T13:40:51.427630",
     "status": "completed"
    },
    "tags": []
   },
   "source": [
    "**All 200 of the people object for targetted killing were palestinians**"
   ]
  },
  {
   "cell_type": "code",
   "execution_count": 42,
   "id": "1b3e1783",
   "metadata": {
    "execution": {
     "iopub.execute_input": "2023-11-27T13:40:51.517230Z",
     "iopub.status.busy": "2023-11-27T13:40:51.516751Z",
     "iopub.status.idle": "2023-11-27T13:40:51.542714Z",
     "shell.execute_reply": "2023-11-27T13:40:51.541689Z"
    },
    "papermill": {
     "duration": 0.059891,
     "end_time": "2023-11-27T13:40:51.545392",
     "exception": false,
     "start_time": "2023-11-27T13:40:51.485501",
     "status": "completed"
    },
    "tags": []
   },
   "outputs": [
    {
     "data": {
      "text/html": [
       "<div>\n",
       "<style scoped>\n",
       "    .dataframe tbody tr th:only-of-type {\n",
       "        vertical-align: middle;\n",
       "    }\n",
       "\n",
       "    .dataframe tbody tr th {\n",
       "        vertical-align: top;\n",
       "    }\n",
       "\n",
       "    .dataframe thead th {\n",
       "        text-align: right;\n",
       "    }\n",
       "</style>\n",
       "<table border=\"1\" class=\"dataframe\">\n",
       "  <thead>\n",
       "    <tr style=\"text-align: right;\">\n",
       "      <th></th>\n",
       "      <th>name</th>\n",
       "      <th>date_of_event</th>\n",
       "      <th>age</th>\n",
       "      <th>citizenship</th>\n",
       "      <th>event_location</th>\n",
       "      <th>event_location_district</th>\n",
       "      <th>event_location_region</th>\n",
       "      <th>date_of_death</th>\n",
       "      <th>gender</th>\n",
       "      <th>took_part_in_the_hostilities</th>\n",
       "      <th>place_of_residence</th>\n",
       "      <th>place_of_residence_district</th>\n",
       "      <th>type_of_injury</th>\n",
       "      <th>ammunition</th>\n",
       "      <th>killed_by</th>\n",
       "      <th>notes</th>\n",
       "    </tr>\n",
       "  </thead>\n",
       "  <tbody>\n",
       "    <tr>\n",
       "      <th>5989</th>\n",
       "      <td>Husam Taysir Dwayat</td>\n",
       "      <td>2008-07-02</td>\n",
       "      <td>31.0</td>\n",
       "      <td>Israeli</td>\n",
       "      <td>Jerusalem</td>\n",
       "      <td>Israel</td>\n",
       "      <td>Israel</td>\n",
       "      <td>2008-07-02</td>\n",
       "      <td>M</td>\n",
       "      <td>Yes</td>\n",
       "      <td>Zur Baher</td>\n",
       "      <td>East Jerusalem</td>\n",
       "      <td>gunfire</td>\n",
       "      <td>NaN</td>\n",
       "      <td>Israeli security forces</td>\n",
       "      <td>Shot after he ran over and crushed three drive...</td>\n",
       "    </tr>\n",
       "  </tbody>\n",
       "</table>\n",
       "</div>"
      ],
      "text/plain": [
       "                     name date_of_event   age citizenship event_location  \\\n",
       "5989  Husam Taysir Dwayat    2008-07-02  31.0     Israeli      Jerusalem   \n",
       "\n",
       "     event_location_district event_location_region date_of_death gender  \\\n",
       "5989                  Israel                Israel    2008-07-02      M   \n",
       "\n",
       "     took_part_in_the_hostilities place_of_residence  \\\n",
       "5989                          Yes          Zur Baher   \n",
       "\n",
       "     place_of_residence_district type_of_injury ammunition  \\\n",
       "5989              East Jerusalem        gunfire        NaN   \n",
       "\n",
       "                    killed_by  \\\n",
       "5989  Israeli security forces   \n",
       "\n",
       "                                                  notes  \n",
       "5989  Shot after he ran over and crushed three drive...  "
      ]
     },
     "execution_count": 42,
     "metadata": {},
     "output_type": "execute_result"
    }
   ],
   "source": [
    "selected_rows = data[(data['citizenship'] == 'Israeli') & (data['killed_by'] == 'Israeli security forces')]\n",
    "selected_rows"
   ]
  },
  {
   "cell_type": "markdown",
   "id": "79843c4f",
   "metadata": {
    "papermill": {
     "duration": 0.028848,
     "end_time": "2023-11-27T13:40:51.603291",
     "exception": false,
     "start_time": "2023-11-27T13:40:51.574443",
     "status": "completed"
    },
    "tags": []
   },
   "source": [
    "**Only one Israeli was killed by the Israeli Security Forces**"
   ]
  },
  {
   "cell_type": "code",
   "execution_count": 43,
   "id": "833b4363",
   "metadata": {
    "execution": {
     "iopub.execute_input": "2023-11-27T13:40:51.663055Z",
     "iopub.status.busy": "2023-11-27T13:40:51.662348Z",
     "iopub.status.idle": "2023-11-27T13:40:51.670037Z",
     "shell.execute_reply": "2023-11-27T13:40:51.668884Z"
    },
    "papermill": {
     "duration": 0.041256,
     "end_time": "2023-11-27T13:40:51.672645",
     "exception": false,
     "start_time": "2023-11-27T13:40:51.631389",
     "status": "completed"
    },
    "tags": []
   },
   "outputs": [
    {
     "data": {
      "text/plain": [
       "5989    Shot after he ran over and crushed three drive...\n",
       "Name: notes, dtype: object"
      ]
     },
     "execution_count": 43,
     "metadata": {},
     "output_type": "execute_result"
    }
   ],
   "source": [
    "selected_rows['notes']"
   ]
  }
 ],
 "metadata": {
  "kaggle": {
   "accelerator": "none",
   "dataSources": [
    {
     "datasetId": 3843482,
     "sourceId": 6660242,
     "sourceType": "datasetVersion"
    }
   ],
   "dockerImageVersionId": 30587,
   "isGpuEnabled": false,
   "isInternetEnabled": true,
   "language": "python",
   "sourceType": "notebook"
  },
  "kernelspec": {
   "display_name": "Python 3",
   "language": "python",
   "name": "python3"
  },
  "language_info": {
   "codemirror_mode": {
    "name": "ipython",
    "version": 3
   },
   "file_extension": ".py",
   "mimetype": "text/x-python",
   "name": "python",
   "nbconvert_exporter": "python",
   "pygments_lexer": "ipython3",
   "version": "3.10.12"
  },
  "papermill": {
   "default_parameters": {},
   "duration": 12.945172,
   "end_time": "2023-11-27T13:40:52.425927",
   "environment_variables": {},
   "exception": null,
   "input_path": "__notebook__.ipynb",
   "output_path": "__notebook__.ipynb",
   "parameters": {},
   "start_time": "2023-11-27T13:40:39.480755",
   "version": "2.4.0"
  }
 },
 "nbformat": 4,
 "nbformat_minor": 5
}
